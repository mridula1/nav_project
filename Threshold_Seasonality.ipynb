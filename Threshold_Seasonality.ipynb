{
 "cells": [
  {
   "cell_type": "code",
   "execution_count": 1,
   "metadata": {
    "collapsed": false
   },
   "outputs": [
    {
     "name": "stdout",
     "output_type": "stream",
     "text": [
      "0.5.0\n"
     ]
    },
    {
     "name": "stderr",
     "output_type": "stream",
     "text": [
      "/Library/Frameworks/Python.framework/Versions/2.7/lib/python2.7/site-packages/statsmodels/compat/pandas.py:56: FutureWarning: The pandas.core.datetools module is deprecated and will be removed in a future version. Please use the pandas.tseries module instead.\n",
      "  from pandas.core import datetools\n"
     ]
    }
   ],
   "source": [
    "from pandas_datareader import data\n",
    "import pandas_datareader as pdr\n",
    "import pandas as pd\n",
    "import datetime\n",
    "import csv\n",
    "from pandas_datareader._utils import RemoteDataError\n",
    "import matplotlib.pyplot as plt\n",
    "import numpy as np\n",
    "from scipy import stats\n",
    "from statsmodels.tsa.seasonal import seasonal_decompose\n",
    "print(pdr.__version__) "
   ]
  },
  {
   "cell_type": "code",
   "execution_count": 2,
   "metadata": {
    "collapsed": true
   },
   "outputs": [],
   "source": [
    "filename = \"Ticker_MF.csv\"\n",
    "tickers = []\n",
    "ticker_frame = pd.read_csv(filename)\n",
    "ticker_frame.fillna(0, inplace=True)\n",
    "new_ticker_frame = ticker_frame[ticker_frame.TICKER_SYMBOL_IDENTIFIER != 0]\n",
    "tickers_series = (new_ticker_frame[\"TICKER_SYMBOL_IDENTIFIER\"].as_matrix()).tolist()"
   ]
  },
  {
   "cell_type": "code",
   "execution_count": 3,
   "metadata": {
    "collapsed": false
   },
   "outputs": [
    {
     "name": "stdout",
     "output_type": "stream",
     "text": [
      "<type 'list'>\n",
      "9981\n"
     ]
    }
   ],
   "source": [
    "print type(tickers_series)\n",
    "print len(tickers_series)"
   ]
  },
  {
   "cell_type": "code",
   "execution_count": 4,
   "metadata": {
    "collapsed": false
   },
   "outputs": [
    {
     "name": "stdout",
     "output_type": "stream",
     "text": [
      "1938\n"
     ]
    }
   ],
   "source": [
    "tickers = []\n",
    "index = 0\n",
    "for i in range(len(tickers_series)):\n",
    "    if (tickers_series[i][0]=='F'):\n",
    "        tickers.append(tickers_series[i])\n",
    "print len(tickers)\n",
    "        \n",
    "# tickers = [tickers_series[i] for i in range(len(tickers_series)) if tickers_series[i][0]== 'F']\n",
    "data_source = 'yahoo'\n",
    "start = datetime.datetime(2013,1,1)\n",
    "end = datetime.datetime(2018,1,1)"
   ]
  },
  {
   "cell_type": "code",
   "execution_count": 5,
   "metadata": {
    "collapsed": false
   },
   "outputs": [
    {
     "name": "stdout",
     "output_type": "stream",
     "text": [
      "0\n",
      "100\n"
     ]
    },
    {
     "name": "stderr",
     "output_type": "stream",
     "text": [
      "pandas_datareader/yahoo/daily.py:136: SymbolWarning: Failed to read symbol: 'FGCBX', replacing with NaN.\n",
      "  warnings.warn(msg.format(sym), SymbolWarning)\n",
      "pandas_datareader/yahoo/daily.py:136: SymbolWarning: Failed to read symbol: 'FSLXX', replacing with NaN.\n",
      "  warnings.warn(msg.format(sym), SymbolWarning)\n",
      "pandas_datareader/yahoo/daily.py:136: SymbolWarning: Failed to read symbol: 'FIDYX', replacing with NaN.\n",
      "  warnings.warn(msg.format(sym), SymbolWarning)\n",
      "pandas_datareader/yahoo/daily.py:136: SymbolWarning: Failed to read symbol: 'FOPXX', replacing with NaN.\n",
      "  warnings.warn(msg.format(sym), SymbolWarning)\n",
      "pandas_datareader/yahoo/daily.py:136: SymbolWarning: Failed to read symbol: 'FRMBX', replacing with NaN.\n",
      "  warnings.warn(msg.format(sym), SymbolWarning)\n",
      "pandas_datareader/yahoo/daily.py:136: SymbolWarning: Failed to read symbol: 'FSAXX', replacing with NaN.\n",
      "  warnings.warn(msg.format(sym), SymbolWarning)\n",
      "pandas_datareader/yahoo/daily.py:136: SymbolWarning: Failed to read symbol: 'FLNOX', replacing with NaN.\n",
      "  warnings.warn(msg.format(sym), SymbolWarning)\n",
      "pandas_datareader/yahoo/daily.py:136: SymbolWarning: Failed to read symbol: 'FSPXX', replacing with NaN.\n",
      "  warnings.warn(msg.format(sym), SymbolWarning)\n",
      "pandas_datareader/yahoo/daily.py:136: SymbolWarning: Failed to read symbol: 'FZFXX', replacing with NaN.\n",
      "  warnings.warn(msg.format(sym), SymbolWarning)\n",
      "pandas_datareader/yahoo/daily.py:136: SymbolWarning: Failed to read symbol: 'FOIXX', replacing with NaN.\n",
      "  warnings.warn(msg.format(sym), SymbolWarning)\n",
      "/Library/Frameworks/Python.framework/Versions/2.7/lib/python2.7/site-packages/pandas-0.21.0-py2.7-macosx-10.6-intel.egg/pandas/core/panel.py:728: FutureWarning: '.reindex_axis' is deprecated and will be removed in a future version. Use '.reindex' instead.\n",
      "  result = self.reindex_axis(new_ax, axis=axis)\n"
     ]
    },
    {
     "name": "stdout",
     "output_type": "stream",
     "text": [
      "<class 'pandas.core.panel.Panel'>\n",
      "Dimensions: 6 (items) x 1259 (major_axis) x 100 (minor_axis)\n",
      "Items axis: Adj Close to Volume\n",
      "Major_axis axis: 2013-01-02 00:00:00 to 2017-12-29 00:00:00\n",
      "Minor_axis axis: FACBX to FZFXX\n",
      "101\n",
      "201\n"
     ]
    },
    {
     "name": "stderr",
     "output_type": "stream",
     "text": [
      "pandas_datareader/yahoo/daily.py:136: SymbolWarning: Failed to read symbol: 'FUBIX', replacing with NaN.\n",
      "  warnings.warn(msg.format(sym), SymbolWarning)\n",
      "pandas_datareader/yahoo/daily.py:136: SymbolWarning: Failed to read symbol: 'FJPAX', replacing with NaN.\n",
      "  warnings.warn(msg.format(sym), SymbolWarning)\n",
      "pandas_datareader/yahoo/daily.py:136: SymbolWarning: Failed to read symbol: 'FTARX', replacing with NaN.\n",
      "  warnings.warn(msg.format(sym), SymbolWarning)\n",
      "pandas_datareader/yahoo/daily.py:136: SymbolWarning: Failed to read symbol: 'FZBXX', replacing with NaN.\n",
      "  warnings.warn(msg.format(sym), SymbolWarning)\n",
      "pandas_datareader/yahoo/daily.py:136: SymbolWarning: Failed to read symbol: 'FAJIX', replacing with NaN.\n",
      "  warnings.warn(msg.format(sym), SymbolWarning)\n",
      "pandas_datareader/yahoo/daily.py:136: SymbolWarning: Failed to read symbol: 'FMMXX', replacing with NaN.\n",
      "  warnings.warn(msg.format(sym), SymbolWarning)\n",
      "pandas_datareader/yahoo/daily.py:136: SymbolWarning: Failed to read symbol: 'FCVXX', replacing with NaN.\n",
      "  warnings.warn(msg.format(sym), SymbolWarning)\n",
      "pandas_datareader/yahoo/daily.py:136: SymbolWarning: Failed to read symbol: 'FGVCX', replacing with NaN.\n",
      "  warnings.warn(msg.format(sym), SymbolWarning)\n",
      "pandas_datareader/yahoo/daily.py:136: SymbolWarning: Failed to read symbol: 'FIPXX', replacing with NaN.\n",
      "  warnings.warn(msg.format(sym), SymbolWarning)\n",
      "pandas_datareader/yahoo/daily.py:136: SymbolWarning: Failed to read symbol: 'FDPXX', replacing with NaN.\n",
      "  warnings.warn(msg.format(sym), SymbolWarning)\n",
      "pandas_datareader/yahoo/daily.py:136: SymbolWarning: Failed to read symbol: 'FIDXX', replacing with NaN.\n",
      "  warnings.warn(msg.format(sym), SymbolWarning)\n",
      "pandas_datareader/yahoo/daily.py:136: SymbolWarning: Failed to read symbol: 'FDOXX', replacing with NaN.\n",
      "  warnings.warn(msg.format(sym), SymbolWarning)\n",
      "pandas_datareader/yahoo/daily.py:136: SymbolWarning: Failed to read symbol: 'FMMSX', replacing with NaN.\n",
      "  warnings.warn(msg.format(sym), SymbolWarning)\n",
      "pandas_datareader/yahoo/daily.py:136: SymbolWarning: Failed to read symbol: 'FOTTX', replacing with NaN.\n",
      "  warnings.warn(msg.format(sym), SymbolWarning)\n",
      "pandas_datareader/yahoo/daily.py:136: SymbolWarning: Failed to read symbol: 'FGCOX', replacing with NaN.\n",
      "  warnings.warn(msg.format(sym), SymbolWarning)\n",
      "pandas_datareader/yahoo/daily.py:136: SymbolWarning: Failed to read symbol: 'FAUSX', replacing with NaN.\n",
      "  warnings.warn(msg.format(sym), SymbolWarning)\n"
     ]
    },
    {
     "name": "stdout",
     "output_type": "stream",
     "text": [
      "<class 'pandas.core.panel.Panel'>\n",
      "Dimensions: 6 (items) x 1259 (major_axis) x 100 (minor_axis)\n",
      "Items axis: Adj Close to Volume\n",
      "Major_axis axis: 2013-01-02 00:00:00 to 2017-12-29 00:00:00\n",
      "Minor_axis axis: FAEVX to FZBXX\n",
      "202\n",
      "302\n"
     ]
    },
    {
     "name": "stderr",
     "output_type": "stream",
     "text": [
      "pandas_datareader/yahoo/daily.py:136: SymbolWarning: Failed to read symbol: 'FWWGX', replacing with NaN.\n",
      "  warnings.warn(msg.format(sym), SymbolWarning)\n",
      "pandas_datareader/yahoo/daily.py:136: SymbolWarning: Failed to read symbol: 'FZGXX', replacing with NaN.\n",
      "  warnings.warn(msg.format(sym), SymbolWarning)\n",
      "pandas_datareader/yahoo/daily.py:136: SymbolWarning: Failed to read symbol: 'FEPXX', replacing with NaN.\n",
      "  warnings.warn(msg.format(sym), SymbolWarning)\n",
      "pandas_datareader/yahoo/daily.py:136: SymbolWarning: Failed to read symbol: 'FPRXX', replacing with NaN.\n",
      "  warnings.warn(msg.format(sym), SymbolWarning)\n",
      "pandas_datareader/yahoo/daily.py:136: SymbolWarning: Failed to read symbol: 'FDTXX', replacing with NaN.\n",
      "  warnings.warn(msg.format(sym), SymbolWarning)\n",
      "pandas_datareader/yahoo/daily.py:136: SymbolWarning: Failed to read symbol: 'FRVIX', replacing with NaN.\n",
      "  warnings.warn(msg.format(sym), SymbolWarning)\n",
      "pandas_datareader/yahoo/daily.py:136: SymbolWarning: Failed to read symbol: 'FTTBX', replacing with NaN.\n",
      "  warnings.warn(msg.format(sym), SymbolWarning)\n",
      "pandas_datareader/yahoo/daily.py:136: SymbolWarning: Failed to read symbol: 'FCGXX', replacing with NaN.\n",
      "  warnings.warn(msg.format(sym), SymbolWarning)\n",
      "pandas_datareader/yahoo/daily.py:136: SymbolWarning: Failed to read symbol: 'FTVXX', replacing with NaN.\n",
      "  warnings.warn(msg.format(sym), SymbolWarning)\n",
      "pandas_datareader/yahoo/daily.py:136: SymbolWarning: Failed to read symbol: 'FCSXX', replacing with NaN.\n",
      "  warnings.warn(msg.format(sym), SymbolWarning)\n",
      "pandas_datareader/yahoo/daily.py:136: SymbolWarning: Failed to read symbol: 'FFCSX', replacing with NaN.\n",
      "  warnings.warn(msg.format(sym), SymbolWarning)\n",
      "pandas_datareader/yahoo/daily.py:136: SymbolWarning: Failed to read symbol: 'FTEXX', replacing with NaN.\n",
      "  warnings.warn(msg.format(sym), SymbolWarning)\n",
      "pandas_datareader/yahoo/daily.py:136: SymbolWarning: Failed to read symbol: 'FNYXX', replacing with NaN.\n",
      "  warnings.warn(msg.format(sym), SymbolWarning)\n"
     ]
    },
    {
     "name": "stdout",
     "output_type": "stream",
     "text": [
      "<class 'pandas.core.panel.Panel'>\n",
      "Dimensions: 6 (items) x 1259 (major_axis) x 100 (minor_axis)\n",
      "Items axis: Adj Close to Volume\n",
      "Major_axis axis: 2013-01-02 00:00:00 to 2017-12-29 00:00:00\n",
      "Minor_axis axis: FABSX to FZIBX\n",
      "303\n",
      "403\n"
     ]
    },
    {
     "name": "stderr",
     "output_type": "stream",
     "text": [
      "pandas_datareader/yahoo/daily.py:136: SymbolWarning: Failed to read symbol: 'FOMXX', replacing with NaN.\n",
      "  warnings.warn(msg.format(sym), SymbolWarning)\n",
      "pandas_datareader/yahoo/daily.py:136: SymbolWarning: Failed to read symbol: 'FFYAX', replacing with NaN.\n",
      "  warnings.warn(msg.format(sym), SymbolWarning)\n",
      "pandas_datareader/yahoo/daily.py:136: SymbolWarning: Failed to read symbol: 'FAJCX', replacing with NaN.\n",
      "  warnings.warn(msg.format(sym), SymbolWarning)\n",
      "pandas_datareader/yahoo/daily.py:136: SymbolWarning: Failed to read symbol: 'FDMXX', replacing with NaN.\n",
      "  warnings.warn(msg.format(sym), SymbolWarning)\n",
      "pandas_datareader/yahoo/daily.py:136: SymbolWarning: Failed to read symbol: 'FEXXX', replacing with NaN.\n",
      "  warnings.warn(msg.format(sym), SymbolWarning)\n",
      "pandas_datareader/yahoo/daily.py:136: SymbolWarning: Failed to read symbol: 'FMIKX', replacing with NaN.\n",
      "  warnings.warn(msg.format(sym), SymbolWarning)\n",
      "pandas_datareader/yahoo/daily.py:136: SymbolWarning: Failed to read symbol: 'FRGXX', replacing with NaN.\n",
      "  warnings.warn(msg.format(sym), SymbolWarning)\n",
      "pandas_datareader/yahoo/daily.py:136: SymbolWarning: Failed to read symbol: 'FCPFX', replacing with NaN.\n",
      "  warnings.warn(msg.format(sym), SymbolWarning)\n",
      "pandas_datareader/yahoo/daily.py:136: SymbolWarning: Failed to read symbol: 'FAEAX', replacing with NaN.\n",
      "  warnings.warn(msg.format(sym), SymbolWarning)\n",
      "pandas_datareader/yahoo/daily.py:136: SymbolWarning: Failed to read symbol: 'FGCTX', replacing with NaN.\n",
      "  warnings.warn(msg.format(sym), SymbolWarning)\n",
      "pandas_datareader/yahoo/daily.py:136: SymbolWarning: Failed to read symbol: 'FBEAX', replacing with NaN.\n",
      "  warnings.warn(msg.format(sym), SymbolWarning)\n",
      "pandas_datareader/yahoo/daily.py:136: SymbolWarning: Failed to read symbol: 'FIEAX', replacing with NaN.\n",
      "  warnings.warn(msg.format(sym), SymbolWarning)\n"
     ]
    },
    {
     "name": "stdout",
     "output_type": "stream",
     "text": [
      "<class 'pandas.core.panel.Panel'>\n",
      "Dimensions: 6 (items) x 1259 (major_axis) x 100 (minor_axis)\n",
      "Items axis: Adj Close to Volume\n",
      "Major_axis axis: 2013-01-02 00:00:00 to 2017-12-29 00:00:00\n",
      "Minor_axis axis: FAEAX to FYHTX\n",
      "404\n",
      "504\n"
     ]
    },
    {
     "name": "stderr",
     "output_type": "stream",
     "text": [
      "pandas_datareader/yahoo/daily.py:136: SymbolWarning: Failed to read symbol: 'FORTX', replacing with NaN.\n",
      "  warnings.warn(msg.format(sym), SymbolWarning)\n",
      "pandas_datareader/yahoo/daily.py:136: SymbolWarning: Failed to read symbol: 'FBCFX', replacing with NaN.\n",
      "  warnings.warn(msg.format(sym), SymbolWarning)\n",
      "pandas_datareader/yahoo/daily.py:136: SymbolWarning: Failed to read symbol: 'FNJXX', replacing with NaN.\n",
      "  warnings.warn(msg.format(sym), SymbolWarning)\n",
      "pandas_datareader/yahoo/daily.py:136: SymbolWarning: Failed to read symbol: 'FMAXX', replacing with NaN.\n",
      "  warnings.warn(msg.format(sym), SymbolWarning)\n",
      "pandas_datareader/yahoo/daily.py:136: SymbolWarning: Failed to read symbol: 'FTBXX', replacing with NaN.\n",
      "  warnings.warn(msg.format(sym), SymbolWarning)\n",
      "pandas_datareader/yahoo/daily.py:136: SymbolWarning: Failed to read symbol: 'FSEQX', replacing with NaN.\n",
      "  warnings.warn(msg.format(sym), SymbolWarning)\n",
      "pandas_datareader/yahoo/daily.py:136: SymbolWarning: Failed to read symbol: 'FLVBX', replacing with NaN.\n",
      "  warnings.warn(msg.format(sym), SymbolWarning)\n",
      "pandas_datareader/yahoo/daily.py:136: SymbolWarning: Failed to read symbol: 'FUSPX', replacing with NaN.\n",
      "  warnings.warn(msg.format(sym), SymbolWarning)\n",
      "pandas_datareader/yahoo/daily.py:136: SymbolWarning: Failed to read symbol: 'FEDEX', replacing with NaN.\n",
      "  warnings.warn(msg.format(sym), SymbolWarning)\n",
      "pandas_datareader/yahoo/daily.py:136: SymbolWarning: Failed to read symbol: 'FDAXX', replacing with NaN.\n",
      "  warnings.warn(msg.format(sym), SymbolWarning)\n",
      "pandas_datareader/yahoo/daily.py:136: SymbolWarning: Failed to read symbol: 'FMOXX', replacing with NaN.\n",
      "  warnings.warn(msg.format(sym), SymbolWarning)\n"
     ]
    },
    {
     "name": "stdout",
     "output_type": "stream",
     "text": [
      "<class 'pandas.core.panel.Panel'>\n",
      "Dimensions: 6 (items) x 1259 (major_axis) x 100 (minor_axis)\n",
      "Items axis: Adj Close to Volume\n",
      "Major_axis axis: 2013-01-02 00:00:00 to 2017-12-29 00:00:00\n",
      "Minor_axis axis: FAAPX to FZAHX\n",
      "505\n",
      "605\n"
     ]
    },
    {
     "name": "stderr",
     "output_type": "stream",
     "text": [
      "pandas_datareader/yahoo/daily.py:136: SymbolWarning: Failed to read symbol: 'FBGVX', replacing with NaN.\n",
      "  warnings.warn(msg.format(sym), SymbolWarning)\n",
      "pandas_datareader/yahoo/daily.py:136: SymbolWarning: Failed to read symbol: 'FRMUX', replacing with NaN.\n",
      "  warnings.warn(msg.format(sym), SymbolWarning)\n",
      "pandas_datareader/yahoo/daily.py:136: SymbolWarning: Failed to read symbol: 'FDRXX', replacing with NaN.\n",
      "  warnings.warn(msg.format(sym), SymbolWarning)\n",
      "pandas_datareader/yahoo/daily.py:136: SymbolWarning: Failed to read symbol: 'FLTXX', replacing with NaN.\n",
      "  warnings.warn(msg.format(sym), SymbolWarning)\n",
      "pandas_datareader/yahoo/daily.py:136: SymbolWarning: Failed to read symbol: 'FFYBX', replacing with NaN.\n",
      "  warnings.warn(msg.format(sym), SymbolWarning)\n",
      "pandas_datareader/yahoo/daily.py:136: SymbolWarning: Failed to read symbol: 'FMHXX', replacing with NaN.\n",
      "  warnings.warn(msg.format(sym), SymbolWarning)\n",
      "pandas_datareader/yahoo/daily.py:136: SymbolWarning: Failed to read symbol: 'FTXAX', replacing with NaN.\n",
      "  warnings.warn(msg.format(sym), SymbolWarning)\n",
      "pandas_datareader/yahoo/daily.py:136: SymbolWarning: Failed to read symbol: 'FDIDX', replacing with NaN.\n",
      "  warnings.warn(msg.format(sym), SymbolWarning)\n",
      "pandas_datareader/yahoo/daily.py:136: SymbolWarning: Failed to read symbol: 'FWWAX', replacing with NaN.\n",
      "  warnings.warn(msg.format(sym), SymbolWarning)\n",
      "pandas_datareader/yahoo/daily.py:136: SymbolWarning: Failed to read symbol: 'FGPXX', replacing with NaN.\n",
      "  warnings.warn(msg.format(sym), SymbolWarning)\n",
      "pandas_datareader/yahoo/daily.py:136: SymbolWarning: Failed to read symbol: 'FSLGX', replacing with NaN.\n",
      "  warnings.warn(msg.format(sym), SymbolWarning)\n",
      "pandas_datareader/yahoo/daily.py:136: SymbolWarning: Failed to read symbol: 'FCEAX', replacing with NaN.\n",
      "  warnings.warn(msg.format(sym), SymbolWarning)\n",
      "pandas_datareader/yahoo/daily.py:136: SymbolWarning: Failed to read symbol: 'FRGRX', replacing with NaN.\n",
      "  warnings.warn(msg.format(sym), SymbolWarning)\n",
      "pandas_datareader/yahoo/daily.py:136: SymbolWarning: Failed to read symbol: 'FLIPX', replacing with NaN.\n",
      "  warnings.warn(msg.format(sym), SymbolWarning)\n",
      "pandas_datareader/yahoo/daily.py:136: SymbolWarning: Failed to read symbol: 'FSKXX', replacing with NaN.\n",
      "  warnings.warn(msg.format(sym), SymbolWarning)\n"
     ]
    },
    {
     "name": "stdout",
     "output_type": "stream",
     "text": [
      "<class 'pandas.core.panel.Panel'>\n",
      "Dimensions: 6 (items) x 1259 (major_axis) x 100 (minor_axis)\n",
      "Items axis: Adj Close to Volume\n",
      "Major_axis axis: 2013-01-02 00:00:00 to 2017-12-29 00:00:00\n",
      "Minor_axis axis: FADIX to FZIIX\n",
      "606\n",
      "706\n"
     ]
    },
    {
     "name": "stderr",
     "output_type": "stream",
     "text": [
      "pandas_datareader/yahoo/daily.py:136: SymbolWarning: Failed to read symbol: 'FZAXX', replacing with NaN.\n",
      "  warnings.warn(msg.format(sym), SymbolWarning)\n",
      "pandas_datareader/yahoo/daily.py:136: SymbolWarning: Failed to read symbol: 'FCIXX', replacing with NaN.\n",
      "  warnings.warn(msg.format(sym), SymbolWarning)\n",
      "pandas_datareader/yahoo/daily.py:136: SymbolWarning: Failed to read symbol: 'FCFXX', replacing with NaN.\n",
      "  warnings.warn(msg.format(sym), SymbolWarning)\n",
      "pandas_datareader/yahoo/daily.py:136: SymbolWarning: Failed to read symbol: 'FFOSX', replacing with NaN.\n",
      "  warnings.warn(msg.format(sym), SymbolWarning)\n",
      "pandas_datareader/yahoo/daily.py:136: SymbolWarning: Failed to read symbol: 'FMCPX', replacing with NaN.\n",
      "  warnings.warn(msg.format(sym), SymbolWarning)\n",
      "pandas_datareader/yahoo/daily.py:136: SymbolWarning: Failed to read symbol: 'FTMSX', replacing with NaN.\n",
      "  warnings.warn(msg.format(sym), SymbolWarning)\n",
      "pandas_datareader/yahoo/daily.py:136: SymbolWarning: Failed to read symbol: 'FSSXX', replacing with NaN.\n",
      "  warnings.warn(msg.format(sym), SymbolWarning)\n",
      "pandas_datareader/yahoo/daily.py:136: SymbolWarning: Failed to read symbol: 'FDUXX', replacing with NaN.\n",
      "  warnings.warn(msg.format(sym), SymbolWarning)\n",
      "pandas_datareader/yahoo/daily.py:136: SymbolWarning: Failed to read symbol: 'FDEFX', replacing with NaN.\n",
      "  warnings.warn(msg.format(sym), SymbolWarning)\n",
      "pandas_datareader/yahoo/daily.py:136: SymbolWarning: Failed to read symbol: 'FOATX', replacing with NaN.\n",
      "  warnings.warn(msg.format(sym), SymbolWarning)\n"
     ]
    },
    {
     "name": "stdout",
     "output_type": "stream",
     "text": [
      "<class 'pandas.core.panel.Panel'>\n",
      "Dimensions: 6 (items) x 1259 (major_axis) x 100 (minor_axis)\n",
      "Items axis: Adj Close to Volume\n",
      "Major_axis axis: 2013-01-02 00:00:00 to 2017-12-29 00:00:00\n",
      "Minor_axis axis: FABPX to FZAXX\n",
      "707\n",
      "807\n"
     ]
    },
    {
     "name": "stderr",
     "output_type": "stream",
     "text": [
      "pandas_datareader/yahoo/daily.py:136: SymbolWarning: Failed to read symbol: 'FEDBX', replacing with NaN.\n",
      "  warnings.warn(msg.format(sym), SymbolWarning)\n",
      "pandas_datareader/yahoo/daily.py:136: SymbolWarning: Failed to read symbol: 'FAKAX', replacing with NaN.\n",
      "  warnings.warn(msg.format(sym), SymbolWarning)\n",
      "pandas_datareader/yahoo/daily.py:136: SymbolWarning: Failed to read symbol: 'FUBAX', replacing with NaN.\n",
      "  warnings.warn(msg.format(sym), SymbolWarning)\n",
      "pandas_datareader/yahoo/daily.py:136: SymbolWarning: Failed to read symbol: 'FIMXX', replacing with NaN.\n",
      "  warnings.warn(msg.format(sym), SymbolWarning)\n",
      "pandas_datareader/yahoo/daily.py:136: SymbolWarning: Failed to read symbol: 'FDLEX', replacing with NaN.\n",
      "  warnings.warn(msg.format(sym), SymbolWarning)\n",
      "pandas_datareader/yahoo/daily.py:136: SymbolWarning: Failed to read symbol: 'FDEXX', replacing with NaN.\n",
      "  warnings.warn(msg.format(sym), SymbolWarning)\n",
      "pandas_datareader/yahoo/daily.py:136: SymbolWarning: Failed to read symbol: 'FLLBX', replacing with NaN.\n",
      "  warnings.warn(msg.format(sym), SymbolWarning)\n",
      "pandas_datareader/yahoo/daily.py:136: SymbolWarning: Failed to read symbol: 'FPSSX', replacing with NaN.\n",
      "  warnings.warn(msg.format(sym), SymbolWarning)\n",
      "pandas_datareader/yahoo/daily.py:136: SymbolWarning: Failed to read symbol: 'FOBTX', replacing with NaN.\n",
      "  warnings.warn(msg.format(sym), SymbolWarning)\n"
     ]
    },
    {
     "name": "stdout",
     "output_type": "stream",
     "text": [
      "<class 'pandas.core.panel.Panel'>\n",
      "Dimensions: 6 (items) x 1259 (major_axis) x 100 (minor_axis)\n",
      "Items axis: Adj Close to Volume\n",
      "Major_axis axis: 2013-01-02 00:00:00 to 2017-12-29 00:00:00\n",
      "Minor_axis axis: FAATX to FZICX\n",
      "808\n",
      "908\n"
     ]
    },
    {
     "name": "stderr",
     "output_type": "stream",
     "text": [
      "pandas_datareader/yahoo/daily.py:136: SymbolWarning: Failed to read symbol: 'FNSXX', replacing with NaN.\n",
      "  warnings.warn(msg.format(sym), SymbolWarning)\n",
      "pandas_datareader/yahoo/daily.py:136: SymbolWarning: Failed to read symbol: 'FGMXX', replacing with NaN.\n",
      "  warnings.warn(msg.format(sym), SymbolWarning)\n",
      "pandas_datareader/yahoo/daily.py:136: SymbolWarning: Failed to read symbol: 'FTXBX', replacing with NaN.\n",
      "  warnings.warn(msg.format(sym), SymbolWarning)\n",
      "pandas_datareader/yahoo/daily.py:136: SymbolWarning: Failed to read symbol: 'FTBMX', replacing with NaN.\n",
      "  warnings.warn(msg.format(sym), SymbolWarning)\n"
     ]
    },
    {
     "name": "stdout",
     "output_type": "stream",
     "text": [
      "<class 'pandas.core.panel.Panel'>\n",
      "Dimensions: 6 (items) x 1259 (major_axis) x 100 (minor_axis)\n",
      "Items axis: Adj Close to Volume\n",
      "Major_axis axis: 2013-01-02 00:00:00 to 2017-12-29 00:00:00\n",
      "Minor_axis axis: FADPX to FZTKX\n",
      "909\n",
      "1009\n"
     ]
    },
    {
     "name": "stderr",
     "output_type": "stream",
     "text": [
      "pandas_datareader/yahoo/daily.py:136: SymbolWarning: Failed to read symbol: 'FNKXX', replacing with NaN.\n",
      "  warnings.warn(msg.format(sym), SymbolWarning)\n",
      "pandas_datareader/yahoo/daily.py:136: SymbolWarning: Failed to read symbol: 'FTQBX', replacing with NaN.\n",
      "  warnings.warn(msg.format(sym), SymbolWarning)\n",
      "pandas_datareader/yahoo/daily.py:136: SymbolWarning: Failed to read symbol: 'FECAX', replacing with NaN.\n",
      "  warnings.warn(msg.format(sym), SymbolWarning)\n",
      "pandas_datareader/yahoo/daily.py:136: SymbolWarning: Failed to read symbol: 'FGIFX', replacing with NaN.\n",
      "  warnings.warn(msg.format(sym), SymbolWarning)\n",
      "pandas_datareader/yahoo/daily.py:136: SymbolWarning: Failed to read symbol: 'FMIXX', replacing with NaN.\n",
      "  warnings.warn(msg.format(sym), SymbolWarning)\n",
      "pandas_datareader/yahoo/daily.py:136: SymbolWarning: Failed to read symbol: 'FMPXX', replacing with NaN.\n",
      "  warnings.warn(msg.format(sym), SymbolWarning)\n",
      "pandas_datareader/yahoo/daily.py:136: SymbolWarning: Failed to read symbol: 'FBRCX', replacing with NaN.\n",
      "  warnings.warn(msg.format(sym), SymbolWarning)\n",
      "pandas_datareader/yahoo/daily.py:136: SymbolWarning: Failed to read symbol: 'FNAAX', replacing with NaN.\n",
      "  warnings.warn(msg.format(sym), SymbolWarning)\n",
      "pandas_datareader/yahoo/daily.py:136: SymbolWarning: Failed to read symbol: 'FEDXX', replacing with NaN.\n",
      "  warnings.warn(msg.format(sym), SymbolWarning)\n",
      "pandas_datareader/yahoo/daily.py:136: SymbolWarning: Failed to read symbol: 'FRBXX', replacing with NaN.\n",
      "  warnings.warn(msg.format(sym), SymbolWarning)\n",
      "pandas_datareader/yahoo/daily.py:136: SymbolWarning: Failed to read symbol: 'FNSAX', replacing with NaN.\n",
      "  warnings.warn(msg.format(sym), SymbolWarning)\n",
      "pandas_datareader/yahoo/daily.py:136: SymbolWarning: Failed to read symbol: 'FGECX', replacing with NaN.\n",
      "  warnings.warn(msg.format(sym), SymbolWarning)\n"
     ]
    },
    {
     "name": "stdout",
     "output_type": "stream",
     "text": [
      "<class 'pandas.core.panel.Panel'>\n",
      "Dimensions: 6 (items) x 1259 (major_axis) x 100 (minor_axis)\n",
      "Items axis: Adj Close to Volume\n",
      "Major_axis axis: 2013-01-02 00:00:00 to 2017-12-29 00:00:00\n",
      "Minor_axis axis: FACIX to FZAKX\n",
      "1010\n",
      "1110\n"
     ]
    },
    {
     "name": "stderr",
     "output_type": "stream",
     "text": [
      "pandas_datareader/yahoo/daily.py:136: SymbolWarning: Failed to read symbol: 'FIEGX', replacing with NaN.\n",
      "  warnings.warn(msg.format(sym), SymbolWarning)\n",
      "pandas_datareader/yahoo/daily.py:136: SymbolWarning: Failed to read symbol: 'FITOX', replacing with NaN.\n",
      "  warnings.warn(msg.format(sym), SymbolWarning)\n",
      "pandas_datareader/yahoo/daily.py:136: SymbolWarning: Failed to read symbol: 'FLTTX', replacing with NaN.\n",
      "  warnings.warn(msg.format(sym), SymbolWarning)\n",
      "pandas_datareader/yahoo/daily.py:136: SymbolWarning: Failed to read symbol: 'FFIFX', replacing with NaN.\n",
      "  warnings.warn(msg.format(sym), SymbolWarning)\n",
      "pandas_datareader/yahoo/daily.py:136: SymbolWarning: Failed to read symbol: 'FTAMX', replacing with NaN.\n",
      "  warnings.warn(msg.format(sym), SymbolWarning)\n"
     ]
    },
    {
     "name": "stdout",
     "output_type": "stream",
     "text": [
      "<class 'pandas.core.panel.Panel'>\n",
      "Dimensions: 6 (items) x 1259 (major_axis) x 100 (minor_axis)\n",
      "Items axis: Adj Close to Volume\n",
      "Major_axis axis: 2013-01-02 00:00:00 to 2017-12-29 00:00:00\n",
      "Minor_axis axis: FACDX to FVLZX\n",
      "1111\n",
      "1211\n"
     ]
    },
    {
     "name": "stderr",
     "output_type": "stream",
     "text": [
      "pandas_datareader/yahoo/daily.py:136: SymbolWarning: Failed to read symbol: 'FWWRX', replacing with NaN.\n",
      "  warnings.warn(msg.format(sym), SymbolWarning)\n",
      "pandas_datareader/yahoo/daily.py:136: SymbolWarning: Failed to read symbol: 'FCMXX', replacing with NaN.\n",
      "  warnings.warn(msg.format(sym), SymbolWarning)\n",
      "pandas_datareader/yahoo/daily.py:136: SymbolWarning: Failed to read symbol: 'FVVAX', replacing with NaN.\n",
      "  warnings.warn(msg.format(sym), SymbolWarning)\n",
      "pandas_datareader/yahoo/daily.py:136: SymbolWarning: Failed to read symbol: 'FZCXX', replacing with NaN.\n",
      "  warnings.warn(msg.format(sym), SymbolWarning)\n",
      "pandas_datareader/yahoo/daily.py:136: SymbolWarning: Failed to read symbol: 'FDIRX', replacing with NaN.\n",
      "  warnings.warn(msg.format(sym), SymbolWarning)\n",
      "pandas_datareader/yahoo/daily.py:136: SymbolWarning: Failed to read symbol: 'FTUXX', replacing with NaN.\n",
      "  warnings.warn(msg.format(sym), SymbolWarning)\n",
      "pandas_datareader/yahoo/daily.py:136: SymbolWarning: Failed to read symbol: 'FFGXX', replacing with NaN.\n",
      "  warnings.warn(msg.format(sym), SymbolWarning)\n",
      "pandas_datareader/yahoo/daily.py:136: SymbolWarning: Failed to read symbol: 'FSJXX', replacing with NaN.\n",
      "  warnings.warn(msg.format(sym), SymbolWarning)\n",
      "pandas_datareader/yahoo/daily.py:136: SymbolWarning: Failed to read symbol: 'FERXX', replacing with NaN.\n",
      "  warnings.warn(msg.format(sym), SymbolWarning)\n",
      "pandas_datareader/yahoo/daily.py:136: SymbolWarning: Failed to read symbol: 'FRTXX', replacing with NaN.\n",
      "  warnings.warn(msg.format(sym), SymbolWarning)\n",
      "pandas_datareader/yahoo/daily.py:136: SymbolWarning: Failed to read symbol: 'FIGXX', replacing with NaN.\n",
      "  warnings.warn(msg.format(sym), SymbolWarning)\n",
      "pandas_datareader/yahoo/daily.py:136: SymbolWarning: Failed to read symbol: 'FTXMX', replacing with NaN.\n",
      "  warnings.warn(msg.format(sym), SymbolWarning)\n",
      "pandas_datareader/yahoo/daily.py:136: SymbolWarning: Failed to read symbol: 'FAKCX', replacing with NaN.\n",
      "  warnings.warn(msg.format(sym), SymbolWarning)\n"
     ]
    },
    {
     "name": "stdout",
     "output_type": "stream",
     "text": [
      "<class 'pandas.core.panel.Panel'>\n",
      "Dimensions: 6 (items) x 1259 (major_axis) x 100 (minor_axis)\n",
      "Items axis: Adj Close to Volume\n",
      "Major_axis axis: 2013-01-02 00:00:00 to 2017-12-29 00:00:00\n",
      "Minor_axis axis: FAAIX to FZCXX\n",
      "1212\n",
      "1312\n"
     ]
    },
    {
     "name": "stderr",
     "output_type": "stream",
     "text": [
      "pandas_datareader/yahoo/daily.py:136: SymbolWarning: Failed to read symbol: 'FGEXX', replacing with NaN.\n",
      "  warnings.warn(msg.format(sym), SymbolWarning)\n",
      "pandas_datareader/yahoo/daily.py:136: SymbolWarning: Failed to read symbol: 'FEINX', replacing with NaN.\n",
      "  warnings.warn(msg.format(sym), SymbolWarning)\n",
      "pandas_datareader/yahoo/daily.py:136: SymbolWarning: Failed to read symbol: 'FKRIX', replacing with NaN.\n",
      "  warnings.warn(msg.format(sym), SymbolWarning)\n",
      "pandas_datareader/yahoo/daily.py:136: SymbolWarning: Failed to read symbol: 'FRMAX', replacing with NaN.\n",
      "  warnings.warn(msg.format(sym), SymbolWarning)\n",
      "pandas_datareader/yahoo/daily.py:136: SymbolWarning: Failed to read symbol: 'FMMGX', replacing with NaN.\n",
      "  warnings.warn(msg.format(sym), SymbolWarning)\n",
      "pandas_datareader/yahoo/daily.py:136: SymbolWarning: Failed to read symbol: 'FTCXX', replacing with NaN.\n",
      "  warnings.warn(msg.format(sym), SymbolWarning)\n",
      "pandas_datareader/yahoo/daily.py:136: SymbolWarning: Failed to read symbol: 'FIBDX', replacing with NaN.\n",
      "  warnings.warn(msg.format(sym), SymbolWarning)\n",
      "pandas_datareader/yahoo/daily.py:136: SymbolWarning: Failed to read symbol: 'FSBFX', replacing with NaN.\n",
      "  warnings.warn(msg.format(sym), SymbolWarning)\n",
      "pandas_datareader/yahoo/daily.py:136: SymbolWarning: Failed to read symbol: 'FSBXX', replacing with NaN.\n",
      "  warnings.warn(msg.format(sym), SymbolWarning)\n",
      "pandas_datareader/yahoo/daily.py:136: SymbolWarning: Failed to read symbol: 'FZDXX', replacing with NaN.\n",
      "  warnings.warn(msg.format(sym), SymbolWarning)\n"
     ]
    },
    {
     "name": "stdout",
     "output_type": "stream",
     "text": [
      "<class 'pandas.core.panel.Panel'>\n",
      "Dimensions: 6 (items) x 1259 (major_axis) x 100 (minor_axis)\n",
      "Items axis: Adj Close to Volume\n",
      "Major_axis axis: 2013-01-02 00:00:00 to 2017-12-29 00:00:00\n",
      "Minor_axis axis: FACFX to FZDXX\n",
      "1313\n",
      "1413\n"
     ]
    },
    {
     "name": "stderr",
     "output_type": "stream",
     "text": [
      "pandas_datareader/yahoo/daily.py:136: SymbolWarning: Failed to read symbol: 'FDLXX', replacing with NaN.\n",
      "  warnings.warn(msg.format(sym), SymbolWarning)\n",
      "pandas_datareader/yahoo/daily.py:136: SymbolWarning: Failed to read symbol: 'FFBDX', replacing with NaN.\n",
      "  warnings.warn(msg.format(sym), SymbolWarning)\n",
      "pandas_datareader/yahoo/daily.py:136: SymbolWarning: Failed to read symbol: 'FRGYX', replacing with NaN.\n",
      "  warnings.warn(msg.format(sym), SymbolWarning)\n",
      "pandas_datareader/yahoo/daily.py:136: SymbolWarning: Failed to read symbol: 'FGVBX', replacing with NaN.\n",
      "  warnings.warn(msg.format(sym), SymbolWarning)\n",
      "pandas_datareader/yahoo/daily.py:136: SymbolWarning: Failed to read symbol: 'FGRXX', replacing with NaN.\n",
      "  warnings.warn(msg.format(sym), SymbolWarning)\n",
      "pandas_datareader/yahoo/daily.py:136: SymbolWarning: Failed to read symbol: 'FLNAX', replacing with NaN.\n",
      "  warnings.warn(msg.format(sym), SymbolWarning)\n",
      "pandas_datareader/yahoo/daily.py:136: SymbolWarning: Failed to read symbol: 'FTYXX', replacing with NaN.\n",
      "  warnings.warn(msg.format(sym), SymbolWarning)\n",
      "pandas_datareader/yahoo/daily.py:136: SymbolWarning: Failed to read symbol: 'FDVFX', replacing with NaN.\n",
      "  warnings.warn(msg.format(sym), SymbolWarning)\n",
      "pandas_datareader/yahoo/daily.py:136: SymbolWarning: Failed to read symbol: 'FDCIX', replacing with NaN.\n",
      "  warnings.warn(msg.format(sym), SymbolWarning)\n",
      "pandas_datareader/yahoo/daily.py:136: SymbolWarning: Failed to read symbol: 'FLGXX', replacing with NaN.\n",
      "  warnings.warn(msg.format(sym), SymbolWarning)\n",
      "pandas_datareader/yahoo/daily.py:136: SymbolWarning: Failed to read symbol: 'FTXTX', replacing with NaN.\n",
      "  warnings.warn(msg.format(sym), SymbolWarning)\n",
      "pandas_datareader/yahoo/daily.py:136: SymbolWarning: Failed to read symbol: 'FPOXX', replacing with NaN.\n",
      "  warnings.warn(msg.format(sym), SymbolWarning)\n",
      "pandas_datareader/yahoo/daily.py:136: SymbolWarning: Failed to read symbol: 'FSRXX', replacing with NaN.\n",
      "  warnings.warn(msg.format(sym), SymbolWarning)\n",
      "pandas_datareader/yahoo/daily.py:136: SymbolWarning: Failed to read symbol: 'FDBXX', replacing with NaN.\n",
      "  warnings.warn(msg.format(sym), SymbolWarning)\n"
     ]
    },
    {
     "name": "stdout",
     "output_type": "stream",
     "text": [
      "<class 'pandas.core.panel.Panel'>\n",
      "Dimensions: 6 (items) x 1259 (major_axis) x 100 (minor_axis)\n",
      "Items axis: Adj Close to Volume\n",
      "Major_axis axis: 2013-01-02 00:00:00 to 2017-12-29 00:00:00\n",
      "Minor_axis axis: FACGX to FZAGX\n",
      "1414\n",
      "1514\n"
     ]
    },
    {
     "name": "stderr",
     "output_type": "stream",
     "text": [
      "pandas_datareader/yahoo/daily.py:136: SymbolWarning: Failed to read symbol: 'FAKBX', replacing with NaN.\n",
      "  warnings.warn(msg.format(sym), SymbolWarning)\n",
      "pandas_datareader/yahoo/daily.py:136: SymbolWarning: Failed to read symbol: 'FLNTX', replacing with NaN.\n",
      "  warnings.warn(msg.format(sym), SymbolWarning)\n",
      "pandas_datareader/yahoo/daily.py:136: SymbolWarning: Failed to read symbol: 'FDCXX', replacing with NaN.\n",
      "  warnings.warn(msg.format(sym), SymbolWarning)\n",
      "pandas_datareader/yahoo/daily.py:136: SymbolWarning: Failed to read symbol: 'FFPXX', replacing with NaN.\n",
      "  warnings.warn(msg.format(sym), SymbolWarning)\n",
      "pandas_datareader/yahoo/daily.py:136: SymbolWarning: Failed to read symbol: 'FSNXX', replacing with NaN.\n",
      "  warnings.warn(msg.format(sym), SymbolWarning)\n",
      "pandas_datareader/yahoo/daily.py:136: SymbolWarning: Failed to read symbol: 'FMSXX', replacing with NaN.\n",
      "  warnings.warn(msg.format(sym), SymbolWarning)\n",
      "pandas_datareader/yahoo/daily.py:136: SymbolWarning: Failed to read symbol: 'FZEXX', replacing with NaN.\n",
      "  warnings.warn(msg.format(sym), SymbolWarning)\n",
      "pandas_datareader/yahoo/daily.py:136: SymbolWarning: Failed to read symbol: 'FMYXX', replacing with NaN.\n",
      "  warnings.warn(msg.format(sym), SymbolWarning)\n",
      "pandas_datareader/yahoo/daily.py:136: SymbolWarning: Failed to read symbol: 'FHLSX', replacing with NaN.\n",
      "  warnings.warn(msg.format(sym), SymbolWarning)\n",
      "pandas_datareader/yahoo/daily.py:136: SymbolWarning: Failed to read symbol: 'FPSAX', replacing with NaN.\n",
      "  warnings.warn(msg.format(sym), SymbolWarning)\n",
      "pandas_datareader/yahoo/daily.py:136: SymbolWarning: Failed to read symbol: 'FLNIX', replacing with NaN.\n",
      "  warnings.warn(msg.format(sym), SymbolWarning)\n",
      "pandas_datareader/yahoo/daily.py:136: SymbolWarning: Failed to read symbol: 'FGVAX', replacing with NaN.\n",
      "  warnings.warn(msg.format(sym), SymbolWarning)\n",
      "pandas_datareader/yahoo/daily.py:136: SymbolWarning: Failed to read symbol: 'FLNBX', replacing with NaN.\n",
      "  warnings.warn(msg.format(sym), SymbolWarning)\n",
      "pandas_datareader/yahoo/daily.py:136: SymbolWarning: Failed to read symbol: 'FJESX', replacing with NaN.\n",
      "  warnings.warn(msg.format(sym), SymbolWarning)\n"
     ]
    },
    {
     "name": "stdout",
     "output_type": "stream",
     "text": [
      "<class 'pandas.core.panel.Panel'>\n",
      "Dimensions: 6 (items) x 1259 (major_axis) x 100 (minor_axis)\n",
      "Items axis: Adj Close to Volume\n",
      "Major_axis axis: 2013-01-02 00:00:00 to 2017-12-29 00:00:00\n",
      "Minor_axis axis: FAFFX to FZITX\n",
      "1515\n",
      "1615\n"
     ]
    },
    {
     "name": "stderr",
     "output_type": "stream",
     "text": [
      "pandas_datareader/yahoo/daily.py:136: SymbolWarning: Failed to read symbol: 'FBRYX', replacing with NaN.\n",
      "  warnings.warn(msg.format(sym), SymbolWarning)\n",
      "pandas_datareader/yahoo/daily.py:136: SymbolWarning: Failed to read symbol: 'FATAX', replacing with NaN.\n",
      "  warnings.warn(msg.format(sym), SymbolWarning)\n",
      "pandas_datareader/yahoo/daily.py:136: SymbolWarning: Failed to read symbol: 'FTQCX', replacing with NaN.\n",
      "  warnings.warn(msg.format(sym), SymbolWarning)\n",
      "pandas_datareader/yahoo/daily.py:136: SymbolWarning: Failed to read symbol: 'FLNEX', replacing with NaN.\n",
      "  warnings.warn(msg.format(sym), SymbolWarning)\n",
      "pandas_datareader/yahoo/daily.py:136: SymbolWarning: Failed to read symbol: 'FFYIX', replacing with NaN.\n",
      "  warnings.warn(msg.format(sym), SymbolWarning)\n",
      "pandas_datareader/yahoo/daily.py:136: SymbolWarning: Failed to read symbol: 'FLFXX', replacing with NaN.\n",
      "  warnings.warn(msg.format(sym), SymbolWarning)\n",
      "pandas_datareader/yahoo/daily.py:136: SymbolWarning: Failed to read symbol: 'FGBDX', replacing with NaN.\n",
      "  warnings.warn(msg.format(sym), SymbolWarning)\n",
      "pandas_datareader/yahoo/daily.py:136: SymbolWarning: Failed to read symbol: 'FFYTX', replacing with NaN.\n",
      "  warnings.warn(msg.format(sym), SymbolWarning)\n",
      "pandas_datareader/yahoo/daily.py:136: SymbolWarning: Failed to read symbol: 'FCEXX', replacing with NaN.\n",
      "  warnings.warn(msg.format(sym), SymbolWarning)\n",
      "pandas_datareader/yahoo/daily.py:136: SymbolWarning: Failed to read symbol: 'FFYCX', replacing with NaN.\n",
      "  warnings.warn(msg.format(sym), SymbolWarning)\n",
      "pandas_datareader/yahoo/daily.py:136: SymbolWarning: Failed to read symbol: 'FCOXX', replacing with NaN.\n",
      "  warnings.warn(msg.format(sym), SymbolWarning)\n",
      "pandas_datareader/yahoo/daily.py:136: SymbolWarning: Failed to read symbol: 'FSFLX', replacing with NaN.\n",
      "  warnings.warn(msg.format(sym), SymbolWarning)\n"
     ]
    },
    {
     "name": "stdout",
     "output_type": "stream",
     "text": [
      "<class 'pandas.core.panel.Panel'>\n",
      "Dimensions: 6 (items) x 1259 (major_axis) x 100 (minor_axis)\n",
      "Items axis: Adj Close to Volume\n",
      "Major_axis axis: 2013-01-02 00:00:00 to 2017-12-29 00:00:00\n",
      "Minor_axis axis: FAHBX to FZIAX\n",
      "1616\n",
      "1716\n"
     ]
    },
    {
     "name": "stderr",
     "output_type": "stream",
     "text": [
      "pandas_datareader/yahoo/daily.py:136: SymbolWarning: Failed to read symbol: 'FHPXX', replacing with NaN.\n",
      "  warnings.warn(msg.format(sym), SymbolWarning)\n",
      "pandas_datareader/yahoo/daily.py:136: SymbolWarning: Failed to read symbol: 'FRSXX', replacing with NaN.\n",
      "  warnings.warn(msg.format(sym), SymbolWarning)\n",
      "pandas_datareader/yahoo/daily.py:136: SymbolWarning: Failed to read symbol: 'FBDSX', replacing with NaN.\n",
      "  warnings.warn(msg.format(sym), SymbolWarning)\n",
      "pandas_datareader/yahoo/daily.py:136: SymbolWarning: Failed to read symbol: 'FAMPX', replacing with NaN.\n",
      "  warnings.warn(msg.format(sym), SymbolWarning)\n",
      "pandas_datareader/yahoo/daily.py:136: SymbolWarning: Failed to read symbol: 'FAECX', replacing with NaN.\n",
      "  warnings.warn(msg.format(sym), SymbolWarning)\n",
      "pandas_datareader/yahoo/daily.py:136: SymbolWarning: Failed to read symbol: 'FVRXX', replacing with NaN.\n",
      "  warnings.warn(msg.format(sym), SymbolWarning)\n",
      "pandas_datareader/yahoo/daily.py:136: SymbolWarning: Failed to read symbol: 'FNNXX', replacing with NaN.\n",
      "  warnings.warn(msg.format(sym), SymbolWarning)\n"
     ]
    },
    {
     "name": "stdout",
     "output_type": "stream",
     "text": [
      "<class 'pandas.core.panel.Panel'>\n",
      "Dimensions: 6 (items) x 1259 (major_axis) x 100 (minor_axis)\n",
      "Items axis: Adj Close to Volume\n",
      "Major_axis axis: 2013-01-02 00:00:00 to 2017-12-29 00:00:00\n",
      "Minor_axis axis: FACVX to FXNAX\n",
      "1717\n",
      "1817\n"
     ]
    },
    {
     "name": "stderr",
     "output_type": "stream",
     "text": [
      "pandas_datareader/yahoo/daily.py:136: SymbolWarning: Failed to read symbol: 'FLISX', replacing with NaN.\n",
      "  warnings.warn(msg.format(sym), SymbolWarning)\n",
      "pandas_datareader/yahoo/daily.py:136: SymbolWarning: Failed to read symbol: 'FDIXX', replacing with NaN.\n",
      "  warnings.warn(msg.format(sym), SymbolWarning)\n",
      "pandas_datareader/yahoo/daily.py:136: SymbolWarning: Failed to read symbol: 'FOCTX', replacing with NaN.\n",
      "  warnings.warn(msg.format(sym), SymbolWarning)\n",
      "pandas_datareader/yahoo/daily.py:136: SymbolWarning: Failed to read symbol: 'FSMKX', replacing with NaN.\n",
      "  warnings.warn(msg.format(sym), SymbolWarning)\n",
      "pandas_datareader/yahoo/daily.py:136: SymbolWarning: Failed to read symbol: 'FAGVX', replacing with NaN.\n",
      "  warnings.warn(msg.format(sym), SymbolWarning)\n",
      "pandas_datareader/yahoo/daily.py:136: SymbolWarning: Failed to read symbol: 'FHYPX', replacing with NaN.\n",
      "  warnings.warn(msg.format(sym), SymbolWarning)\n",
      "pandas_datareader/yahoo/daily.py:136: SymbolWarning: Failed to read symbol: 'FSXXX', replacing with NaN.\n",
      "  warnings.warn(msg.format(sym), SymbolWarning)\n",
      "pandas_datareader/yahoo/daily.py:136: SymbolWarning: Failed to read symbol: 'FTQAX', replacing with NaN.\n",
      "  warnings.warn(msg.format(sym), SymbolWarning)\n",
      "pandas_datareader/yahoo/daily.py:136: SymbolWarning: Failed to read symbol: 'FETXX', replacing with NaN.\n",
      "  warnings.warn(msg.format(sym), SymbolWarning)\n",
      "pandas_datareader/yahoo/daily.py:136: SymbolWarning: Failed to read symbol: 'FTQTX', replacing with NaN.\n",
      "  warnings.warn(msg.format(sym), SymbolWarning)\n",
      "pandas_datareader/yahoo/daily.py:136: SymbolWarning: Failed to read symbol: 'FBRPX', replacing with NaN.\n",
      "  warnings.warn(msg.format(sym), SymbolWarning)\n",
      "pandas_datareader/yahoo/daily.py:136: SymbolWarning: Failed to read symbol: 'FSIBX', replacing with NaN.\n",
      "  warnings.warn(msg.format(sym), SymbolWarning)\n",
      "pandas_datareader/yahoo/daily.py:136: SymbolWarning: Failed to read symbol: 'FTXCX', replacing with NaN.\n",
      "  warnings.warn(msg.format(sym), SymbolWarning)\n",
      "pandas_datareader/yahoo/daily.py:136: SymbolWarning: Failed to read symbol: 'FGNXX', replacing with NaN.\n",
      "  warnings.warn(msg.format(sym), SymbolWarning)\n"
     ]
    },
    {
     "name": "stdout",
     "output_type": "stream",
     "text": [
      "<class 'pandas.core.panel.Panel'>\n",
      "Dimensions: 6 (items) x 1259 (major_axis) x 100 (minor_axis)\n",
      "Items axis: Adj Close to Volume\n",
      "Major_axis axis: 2013-01-02 00:00:00 to 2017-12-29 00:00:00\n",
      "Minor_axis axis: FABGX to FZALX\n",
      "1818\n",
      "1918\n"
     ]
    },
    {
     "name": "stderr",
     "output_type": "stream",
     "text": [
      "pandas_datareader/yahoo/daily.py:136: SymbolWarning: Failed to read symbol: 'FOXXX', replacing with NaN.\n",
      "  warnings.warn(msg.format(sym), SymbolWarning)\n",
      "pandas_datareader/yahoo/daily.py:136: SymbolWarning: Failed to read symbol: 'FBRMX', replacing with NaN.\n",
      "  warnings.warn(msg.format(sym), SymbolWarning)\n",
      "pandas_datareader/yahoo/daily.py:136: SymbolWarning: Failed to read symbol: 'FTXIX', replacing with NaN.\n",
      "  warnings.warn(msg.format(sym), SymbolWarning)\n",
      "pandas_datareader/yahoo/daily.py:136: SymbolWarning: Failed to read symbol: 'FNINX', replacing with NaN.\n",
      "  warnings.warn(msg.format(sym), SymbolWarning)\n",
      "pandas_datareader/yahoo/daily.py:136: SymbolWarning: Failed to read symbol: 'FLDSX', replacing with NaN.\n",
      "  warnings.warn(msg.format(sym), SymbolWarning)\n",
      "pandas_datareader/yahoo/daily.py:136: SymbolWarning: Failed to read symbol: 'FNOXX', replacing with NaN.\n",
      "  warnings.warn(msg.format(sym), SymbolWarning)\n",
      "pandas_datareader/yahoo/daily.py:136: SymbolWarning: Failed to read symbol: 'FGVTX', replacing with NaN.\n",
      "  warnings.warn(msg.format(sym), SymbolWarning)\n",
      "pandas_datareader/yahoo/daily.py:136: SymbolWarning: Failed to read symbol: 'FSMGX', replacing with NaN.\n",
      "  warnings.warn(msg.format(sym), SymbolWarning)\n",
      "pandas_datareader/yahoo/daily.py:136: SymbolWarning: Failed to read symbol: 'FCGVX', replacing with NaN.\n",
      "  warnings.warn(msg.format(sym), SymbolWarning)\n",
      "pandas_datareader/yahoo/daily.py:136: SymbolWarning: Failed to read symbol: 'FDISX', replacing with NaN.\n",
      "  warnings.warn(msg.format(sym), SymbolWarning)\n",
      "pandas_datareader/yahoo/daily.py:136: SymbolWarning: Failed to read symbol: 'FRGTX', replacing with NaN.\n",
      "  warnings.warn(msg.format(sym), SymbolWarning)\n",
      "pandas_datareader/yahoo/daily.py:136: SymbolWarning: Failed to read symbol: 'FSIXX', replacing with NaN.\n",
      "  warnings.warn(msg.format(sym), SymbolWarning)\n",
      "pandas_datareader/yahoo/daily.py:136: SymbolWarning: Failed to read symbol: 'FAGSX', replacing with NaN.\n",
      "  warnings.warn(msg.format(sym), SymbolWarning)\n",
      "pandas_datareader/yahoo/daily.py:136: SymbolWarning: Failed to read symbol: 'FCDXX', replacing with NaN.\n",
      "  warnings.warn(msg.format(sym), SymbolWarning)\n",
      "pandas_datareader/yahoo/daily.py:136: SymbolWarning: Failed to read symbol: 'FAJBX', replacing with NaN.\n",
      "  warnings.warn(msg.format(sym), SymbolWarning)\n",
      "pandas_datareader/yahoo/daily.py:136: SymbolWarning: Failed to read symbol: 'FISXX', replacing with NaN.\n",
      "  warnings.warn(msg.format(sym), SymbolWarning)\n",
      "pandas_datareader/yahoo/daily.py:136: SymbolWarning: Failed to read symbol: 'FPTXX', replacing with NaN.\n",
      "  warnings.warn(msg.format(sym), SymbolWarning)\n",
      "pandas_datareader/yahoo/daily.py:136: SymbolWarning: Failed to read symbol: 'FDVXX', replacing with NaN.\n",
      "  warnings.warn(msg.format(sym), SymbolWarning)\n"
     ]
    },
    {
     "name": "stdout",
     "output_type": "stream",
     "text": [
      "<class 'pandas.core.panel.Panel'>\n",
      "Dimensions: 6 (items) x 1259 (major_axis) x 100 (minor_axis)\n",
      "Items axis: Adj Close to Volume\n",
      "Major_axis axis: 2013-01-02 00:00:00 to 2017-12-29 00:00:00\n",
      "Minor_axis axis: FAAGX to FZAPX\n",
      "1919\n",
      "2019\n",
      "No information available for ticker FATWX\n"
     ]
    }
   ],
   "source": [
    "import time\n",
    "dfs = []\n",
    "for i in range(0,len(tickers),101):\n",
    "    try:\n",
    "        j = i+100\n",
    "        print i \n",
    "        print j\n",
    "        if j<=len(tickers):\n",
    "            panel_data = data.DataReader(tickers[i:j],data_source,start,end)\n",
    "            print panel_data\n",
    "#             panel_data.reset_index(level=0, inplace=True)\n",
    "            close = panel_data['Close']\n",
    "            dfs.append(close)\n",
    "#             if (i%100 == 0):\n",
    "#                 time.sleep(0.5)\n",
    "        else:\n",
    "            rem = len(tickers) - i\n",
    "            panel_data = data.DataReader(tickers[i:rem],data_source,start,end)\n",
    "#             panel_data.reset_index(level=0, inplace=True)\n",
    "            close = panel_data['Close']\n",
    "            dfs.append(close)\n",
    "#             if (i%100 == 0):\n",
    "#                 time.sleep(0.5)\n",
    "    except RemoteDataError:\n",
    "        print(\"No information available for ticker %s\"% tickers[i])\n",
    "        continue\n"
   ]
  },
  {
   "cell_type": "code",
   "execution_count": 6,
   "metadata": {
    "collapsed": false
   },
   "outputs": [
    {
     "name": "stdout",
     "output_type": "stream",
     "text": [
      "19\n"
     ]
    }
   ],
   "source": [
    "print len(dfs)"
   ]
  },
  {
   "cell_type": "code",
   "execution_count": 7,
   "metadata": {
    "collapsed": true
   },
   "outputs": [],
   "source": [
    "dfs_new = []\n",
    "for df in dfs:\n",
    "    df = df.reset_index(level=0,inplace = True)\n",
    "    dfs_new.append(df)"
   ]
  },
  {
   "cell_type": "code",
   "execution_count": 8,
   "metadata": {
    "collapsed": false
   },
   "outputs": [],
   "source": [
    "df_final = reduce(lambda left,right: pd.merge(left,right,on='Date',how='outer'), dfs)\n"
   ]
  },
  {
   "cell_type": "code",
   "execution_count": 9,
   "metadata": {
    "collapsed": true
   },
   "outputs": [],
   "source": [
    "df_final.set_index('Date',inplace = True)\n",
    "df_box = df_final.copy()\n",
    "box_cols = df_box.columns\n",
    "for col in box_cols:\n",
    "    col_name = col + \"_NAV_Change\"\n",
    "    df_box[col_name] = df_box[col].pct_change()\n"
   ]
  },
  {
   "cell_type": "code",
   "execution_count": 10,
   "metadata": {
    "collapsed": false
   },
   "outputs": [
    {
     "name": "stdout",
     "output_type": "stream",
     "text": [
      "            FACBX      FADCX      FAERX      FAGAX  FAHCX  FAHEX      FARVX  \\\n",
      "Date                                                                          \n",
      "2013-01-02    NaN  15.790000  18.240000  42.509998   9.78  10.35  50.450001   \n",
      "2013-01-03    NaN  15.660000  18.090000  42.369999   9.80  10.37  50.320000   \n",
      "2013-01-04    NaN  15.720000  18.160000  42.490002   9.81  10.38  50.480000   \n",
      "2013-01-07    NaN  15.690000  18.150000  42.410000   9.82  10.39  50.410000   \n",
      "2013-01-08    NaN  15.650000  18.090000  42.360001   9.83  10.40  50.340000   \n",
      "2013-01-09    NaN  15.680000  18.150000  42.590000   9.84  10.41  50.439999   \n",
      "2013-01-10    NaN  15.830000  18.320000  42.779999   9.85  10.42  50.639999   \n",
      "2013-01-11    NaN  15.830000  18.340000  42.799999   9.86  10.43  50.650002   \n",
      "2013-01-14    NaN  15.840000  18.350000  42.709999   9.85  10.43  50.650002   \n",
      "2013-01-15    NaN  15.830000  18.360001  42.689999   9.85  10.42  50.689999   \n",
      "2013-01-16    NaN  15.800000  18.320000  42.599998   9.85  10.43  50.680000   \n",
      "2013-01-17    NaN  15.950000  18.480000  42.779999   9.88  10.45  50.869999   \n",
      "2013-01-18    NaN  15.910000  18.430000  42.779999   9.89  10.46  50.939999   \n",
      "2013-01-22    NaN  15.920000  18.410000  42.880001   9.89  10.47  51.049999   \n",
      "2013-01-23    NaN  15.920000  18.420000  43.400002   9.90  10.47  51.090000   \n",
      "2013-01-24    NaN  15.950000  18.520000  43.240002   9.90  10.48  51.110001   \n",
      "2013-01-25    NaN  16.100000  18.670000  43.599998   9.92  10.50  51.290001   \n",
      "2013-01-28    NaN  16.030001  18.590000  43.540001   9.92  10.50  51.209999   \n",
      "2013-01-29    NaN  16.110001  18.719999  43.540001   9.90  10.48  51.330002   \n",
      "2013-01-30    NaN  16.150000  18.709999  43.340000   9.88  10.46  51.220001   \n",
      "2013-01-31    NaN  16.100000  18.730000  43.389999   9.87  10.45  51.200001   \n",
      "2013-02-01    NaN  16.240000  18.900000  43.709999   9.89  10.46  51.470001   \n",
      "2013-02-04    NaN  16.010000  18.620001  43.130001   9.86  10.43  51.119999   \n",
      "2013-02-05    NaN  16.080000  18.700001  43.610001   9.86  10.44  51.380001   \n",
      "2013-02-06    NaN  16.030001  18.690001  43.590000   9.86  10.43  51.410000   \n",
      "2013-02-07    NaN  15.910000  18.530001  43.459999   9.84  10.42  51.310001   \n",
      "2013-02-08    NaN  16.010000  18.670000  43.750000   9.85  10.43  51.500000   \n",
      "2013-02-11    NaN  15.910000  18.580000  43.680000   9.85  10.43  51.419998   \n",
      "2013-02-12    NaN  16.010000  18.709999  43.689999   9.85  10.43  51.520000   \n",
      "2013-02-13    NaN  16.059999  18.780001  43.639999   9.87  10.44  51.570000   \n",
      "...           ...        ...        ...        ...    ...    ...        ...   \n",
      "2017-11-16    NaN  22.280001  25.620001  68.360001  10.60  11.28  52.369999   \n",
      "2017-11-17    NaN  22.320000  25.629999  68.309998  10.61  11.30  52.439999   \n",
      "2017-11-20    NaN  22.350000  25.700001  68.220001  10.63  11.32  52.450001   \n",
      "2017-11-21    NaN  22.500000  25.870001  68.779999  10.66  11.34  52.660000   \n",
      "2017-11-22    NaN  22.540001  25.950001  68.769997  10.66  11.35  52.740002   \n",
      "2017-11-24    NaN  22.670000  26.090000  69.169998  10.67  11.35  52.790001   \n",
      "2017-11-27    NaN  22.549999  26.010000  69.190002  10.66  11.35  52.700001   \n",
      "2017-11-28    NaN  22.639999  26.129999  69.320000  10.66  11.35  52.910000   \n",
      "2017-11-29    NaN  22.570000  26.020000  68.150002  10.65  11.34  52.770000   \n",
      "2017-11-30    NaN  22.520000  26.020000  68.760002  10.66  11.35  52.799999   \n",
      "2017-12-01    NaN  22.379999  25.900000  68.470001  10.66  11.35  52.799999   \n",
      "2017-12-04    NaN  22.340000  25.889999  67.680000  10.66  11.35  52.750000   \n",
      "2017-12-05    NaN  22.309999  25.840000  67.660004  10.66  11.35  52.669998   \n",
      "2017-12-06    NaN  22.219999  25.740000  68.000000  10.63  11.31  52.590000   \n",
      "2017-12-07    NaN  22.250000  25.770000  68.599998  10.65  11.33  52.650002   \n",
      "2017-12-08    NaN  22.350000  25.020000  68.970001  10.66  11.35  52.810001   \n",
      "2017-12-11    NaN  22.420000  25.059999  69.360001  10.68  11.37  52.900002   \n",
      "2017-12-12    NaN  22.400000  25.090000  69.260002  10.69  11.38  52.869999   \n",
      "2017-12-13    NaN  22.480000  25.200001  69.410004  10.68  11.37  52.970001   \n",
      "2017-12-14    NaN  22.350000  25.059999  69.180000  10.66  11.34  52.849998   \n",
      "2017-12-15    NaN  22.330000  25.040001  69.870003  10.67  11.36  53.000000   \n",
      "2017-12-18    NaN  22.549999  25.320000  70.480003  10.71  11.40  53.180000   \n",
      "2017-12-19    NaN  22.540001  25.290001  70.099998  10.71  11.40  53.060001   \n",
      "2017-12-20    NaN  22.459999  25.200001  70.019997  10.72  11.41  52.990002   \n",
      "2017-12-21    NaN  22.549999  25.299999  70.099998  10.75  11.44  53.110001   \n",
      "2017-12-22    NaN  22.559999  25.299999  70.029999  10.74  11.43  53.160000   \n",
      "2017-12-26    NaN  22.570000  25.309999  64.910004  10.74  11.43  53.180000   \n",
      "2017-12-27    NaN  22.610001  25.400000  64.959999  10.66  11.35  53.299999   \n",
      "2017-12-28    NaN  22.670000  25.459999  65.120003  10.67  11.36  52.220001   \n",
      "2017-12-29    NaN  22.719999  25.540001  64.730003  10.66  11.35  52.200001   \n",
      "\n",
      "                FAVCX  FBLAX  FBLEX    ...      FTRGX  FTXIX  FUAMX  FUMBX  \\\n",
      "Date                                   ...                                   \n",
      "2013-01-02  10.650000  10.73  10.27    ...        NaN    NaN    NaN    NaN   \n",
      "2013-01-03  10.640000  10.73  10.25    ...        NaN    NaN    NaN    NaN   \n",
      "2013-01-04  10.700000  10.76  10.33    ...        NaN    NaN    NaN    NaN   \n",
      "2013-01-07  10.670000  10.75  10.29    ...        NaN    NaN    NaN    NaN   \n",
      "2013-01-08  10.650000  10.73  10.26    ...        NaN    NaN    NaN    NaN   \n",
      "2013-01-09  10.690000  10.75  10.30    ...        NaN    NaN    NaN    NaN   \n",
      "2013-01-10  10.770000  10.79  10.40    ...        NaN    NaN    NaN    NaN   \n",
      "2013-01-11  10.760000  10.79  10.39    ...        NaN    NaN    NaN    NaN   \n",
      "2013-01-14  10.810000  10.79  10.41    ...        NaN    NaN    NaN    NaN   \n",
      "2013-01-15  10.840000  10.77  10.43    ...        NaN    NaN    NaN    NaN   \n",
      "2013-01-16  10.810000  10.75  10.41    ...        NaN    NaN    NaN    NaN   \n",
      "2013-01-17  10.870000  10.79  10.48    ...        NaN    NaN    NaN    NaN   \n",
      "2013-01-18  10.890000  10.81  10.52    ...        NaN    NaN    NaN    NaN   \n",
      "2013-01-22  10.940000  10.84  10.58    ...        NaN    NaN    NaN    NaN   \n",
      "2013-01-23  10.930000  10.84  10.59    ...        NaN    NaN    NaN    NaN   \n",
      "2013-01-24  10.970000  10.85  10.64    ...        NaN    NaN    NaN    NaN   \n",
      "2013-01-25  11.020000  10.87  10.70    ...        NaN    NaN    NaN    NaN   \n",
      "2013-01-28  11.010000  10.86  10.68    ...        NaN    NaN    NaN    NaN   \n",
      "2013-01-29  11.060000  10.89  10.74    ...        NaN    NaN    NaN    NaN   \n",
      "2013-01-30  11.040000  10.87  10.70    ...        NaN    NaN    NaN    NaN   \n",
      "2013-01-31  10.990000  10.83  10.71    ...        NaN    NaN    NaN    NaN   \n",
      "2013-02-01  11.060000  10.87  10.78    ...        NaN    NaN    NaN    NaN   \n",
      "2013-02-04  10.920000  10.83  10.67    ...        NaN    NaN    NaN    NaN   \n",
      "2013-02-05  10.990000  10.84  10.76    ...        NaN    NaN    NaN    NaN   \n",
      "2013-02-06  10.980000  10.86  10.78    ...        NaN    NaN    NaN    NaN   \n",
      "2013-02-07  10.950000  10.84  10.77    ...        NaN    NaN    NaN    NaN   \n",
      "2013-02-08  10.990000  10.86  10.82    ...        NaN    NaN    NaN    NaN   \n",
      "2013-02-11  11.000000  10.86  10.81    ...        NaN    NaN    NaN    NaN   \n",
      "2013-02-12  11.030000  10.88  10.85    ...        NaN    NaN    NaN    NaN   \n",
      "2013-02-13  11.050000  10.88  10.87    ...        NaN    NaN    NaN    NaN   \n",
      "...               ...    ...    ...    ...        ...    ...    ...    ...   \n",
      "2017-11-16  17.750000  12.25  13.32    ...      10.79    NaN  10.71  10.35   \n",
      "2017-11-17  17.790001  12.24  13.31    ...      10.81    NaN  10.73  10.35   \n",
      "2017-11-20  17.780001  12.25  13.32    ...      10.80    NaN  10.71  10.35   \n",
      "2017-11-21  17.850000  12.29  13.36    ...      10.80    NaN  10.70  10.34   \n",
      "2017-11-22  17.860001  12.29  13.35    ...      10.82    NaN  10.74  10.35   \n",
      "2017-11-24  17.879999  12.31  13.37    ...      10.81    NaN  10.72  10.35   \n",
      "2017-11-27  17.870001  12.30  13.34    ...      10.81    NaN  10.73  10.35   \n",
      "2017-11-28  18.100000  12.38  13.51    ...      10.81    NaN  10.73  10.35   \n",
      "2017-11-29  18.240000  12.41  13.60    ...      10.78    NaN  10.70  10.34   \n",
      "2017-11-30  18.330000  12.44  13.68    ...      10.77    NaN  10.67  10.33   \n",
      "2017-12-01  18.320000  12.43  13.70    ...      10.80    NaN  10.70  10.34   \n",
      "2017-12-04  18.430000  12.46  13.76    ...      10.79    NaN  10.69  10.33   \n",
      "2017-12-05  18.330000  12.42  13.70    ...      10.80    NaN  10.70  10.33   \n",
      "2017-12-06  18.309999  12.41  13.66    ...      10.81    NaN  10.72  10.34   \n",
      "2017-12-07  18.340000  12.41  13.68    ...      10.79    NaN  10.70  10.33   \n",
      "2017-12-08  18.420000  12.44  13.76    ...      10.79    NaN  10.69  10.33   \n",
      "2017-12-11  18.459999  12.46  13.81    ...      10.78    NaN  10.69  10.33   \n",
      "2017-12-12  18.520000  12.49  13.85    ...      10.74    NaN  10.68  10.33   \n",
      "2017-12-13  18.440001  12.49  13.81    ...      10.77    NaN  10.72  10.34   \n",
      "2017-12-14  18.389999  12.46  13.73    ...      10.77    NaN  10.71  10.33   \n",
      "2017-12-15  18.549999  12.26  12.94    ...      10.77    NaN  10.70  10.33   \n",
      "2017-12-18  18.660000  12.30  13.01    ...      10.75    NaN  10.68  10.33   \n",
      "2017-12-19  18.610001  12.27  12.96    ...      10.72    NaN  10.65  10.32   \n",
      "2017-12-20  18.580000  12.27  12.95    ...      10.69    NaN  10.62  10.31   \n",
      "2017-12-21  18.670000  12.31  13.03    ...      10.70    NaN  10.62  10.31   \n",
      "2017-12-22  18.660000  12.31  13.03    ...      10.70    NaN  10.62  10.31   \n",
      "2017-12-26  18.600000  12.32  13.04    ...      10.71    NaN  10.63  10.31   \n",
      "2017-12-27  18.610001  12.34  13.03    ...      10.74    NaN  10.67  10.32   \n",
      "2017-12-28  18.660000  12.35  13.07    ...      10.73    NaN  10.65  10.31   \n",
      "2017-12-29  18.590000  12.34  13.01    ...      10.74    NaN  10.67  10.32   \n",
      "\n",
      "            FUSRX  FVALX      FVIFX      FWAFX      FWIFX      FZAPX  \n",
      "Date                                                                  \n",
      "2013-01-02   6.80  11.47  15.020000  20.670000  20.730000        NaN  \n",
      "2013-01-03   6.79  11.45  15.010000  20.549999  20.610001        NaN  \n",
      "2013-01-04   6.79  11.49  15.120000  20.670000  20.730000        NaN  \n",
      "2013-01-07   6.79  11.42  15.080000  20.650000  20.700001        NaN  \n",
      "2013-01-08   6.79  11.38  15.030000  20.600000  20.660000        NaN  \n",
      "2013-01-09   6.78  11.42  15.100000  20.680000  20.740000        NaN  \n",
      "2013-01-10   6.77  11.46  15.200000  20.820000  20.879999        NaN  \n",
      "2013-01-11   6.78  11.46  15.200000  20.820000  20.879999        NaN  \n",
      "2013-01-14   6.78  11.49  15.200000  20.799999  20.860001        NaN  \n",
      "2013-01-15   6.78  11.49  15.280000  20.790001  20.850000        NaN  \n",
      "2013-01-16   6.78  11.47  15.250000  20.760000  20.820000        NaN  \n",
      "2013-01-17   6.77  11.50  15.360000  20.920000  20.980000        NaN  \n",
      "2013-01-18   6.77  11.51  15.410000  20.900000  20.959999        NaN  \n",
      "2013-01-22   6.77  11.55  15.530000  20.910000  20.980000        NaN  \n",
      "2013-01-23   6.78  11.55  15.530000  20.920000  20.980000        NaN  \n",
      "2013-01-24   6.77  11.57  15.590000  21.040001  21.110001        NaN  \n",
      "2013-01-25   6.76  11.60  15.700000  21.209999  21.270000        NaN  \n",
      "2013-01-28   6.76  11.59  15.670000  21.110001  21.180000        NaN  \n",
      "2013-01-29   6.76  11.64  15.710000  21.190001  21.250000        NaN  \n",
      "2013-01-30   6.76  11.62  15.670000  21.120001  21.190001        NaN  \n",
      "2013-01-31   6.75  11.60  15.680000  21.120001  21.190001        NaN  \n",
      "2013-02-01   6.75  11.65  15.830000  21.340000  21.400000        NaN  \n",
      "2013-02-04   6.76  11.57  15.640000  21.020000  21.080000        NaN  \n",
      "2013-02-05   6.75  11.63  15.800000  21.200001  21.260000        NaN  \n",
      "2013-02-06   6.76  11.64  15.840000  21.170000  21.240000        NaN  \n",
      "2013-02-07   6.75  11.64  15.830000  21.100000  21.170000        NaN  \n",
      "2013-02-08   6.74  11.67  15.940000  21.250000  21.320000        NaN  \n",
      "2013-02-11   6.74  11.68  15.920000  21.170000  21.240000        NaN  \n",
      "2013-02-12   6.73  11.67  15.980000  21.299999  21.360001        NaN  \n",
      "2013-02-13   6.74  11.67  16.020000  21.360001  21.420000        NaN  \n",
      "...           ...    ...        ...        ...        ...        ...  \n",
      "2017-11-16   6.10  10.97  25.530001  27.420000  27.639999  44.270000  \n",
      "2017-11-17   6.10  10.94  25.570000  27.430000  27.639999  44.279999  \n",
      "2017-11-20   6.09  10.95  25.610001  27.480000  27.690001  44.360001  \n",
      "2017-11-21   6.09  10.93  25.680000  27.740000  27.950001  44.770000  \n",
      "2017-11-22   6.10  10.92  25.680000  27.740000  27.959999  44.750000  \n",
      "2017-11-24   6.10  10.94  25.690001  27.900000  28.120001  44.869999  \n",
      "2017-11-27   6.10  10.95  25.620001  27.700001  27.920000  44.730000  \n",
      "2017-11-28   6.10  11.05  25.900000  27.850000  28.059999  45.070000  \n",
      "2017-11-29   6.09  11.11  26.070000  27.530001  27.750000  44.820000  \n",
      "2017-11-30   6.07  11.20  26.180000  27.680000  27.900000  45.169998  \n",
      "2017-12-01   6.08  11.22  26.170000  27.559999  27.770000  45.009998  \n",
      "2017-12-04   6.08  11.19  26.280001  27.309999  27.530001  44.820000  \n",
      "2017-12-05   6.09  11.13  26.090000  27.299999  27.520000  44.599998  \n",
      "2017-12-06   6.09  11.13  25.950001  27.309999  27.530001  44.490002  \n",
      "2017-12-07   6.09  11.11  26.090000  27.459999  27.680000  44.730000  \n",
      "2017-12-08   6.08  11.18  25.330000  25.840000  25.980000  45.020000  \n",
      "2017-12-11   6.07  11.20  25.450001  25.910000  26.040001  45.200001  \n",
      "2017-12-12   6.07  11.25  25.440001  25.900000  26.040001  45.180000  \n",
      "2017-12-13   6.08  11.23  25.410000  25.959999  26.100000  45.180000  \n",
      "2017-12-14   6.08  11.15  25.270000  25.840000  25.980000  44.970001  \n",
      "2017-12-15   6.08  11.20  25.430000  25.950001  26.090000  45.349998  \n",
      "2017-12-18   6.08  11.22  25.639999  26.139999  26.280001  45.630001  \n",
      "2017-12-19   6.07  11.19  25.500000  26.080000  26.219999  45.439999  \n",
      "2017-12-20   6.06  11.19  25.549999  26.010000  26.150000  45.459999  \n",
      "2017-12-21   6.06  11.06  25.670000  26.100000  26.240000  45.630001  \n",
      "2017-12-22   6.06  11.04  25.709999  26.080000  26.219999  45.630001  \n",
      "2017-12-26   6.06  11.04  25.740000  26.059999  26.209999  43.900002  \n",
      "2017-12-27   6.07  11.05  25.730000  26.160000  26.299999  43.910000  \n",
      "2017-12-28   6.05  11.07  25.840000  26.190001  26.340000  44.049999  \n",
      "2017-12-29   6.06  11.02  25.760000  26.139999  26.290001  43.840000  \n",
      "\n",
      "[1259 rows x 1900 columns]\n"
     ]
    }
   ],
   "source": [
    "df_final.rename(columns=lambda x: x.replace('_x', ''), inplace=True)\n",
    "df_final.rename(columns=lambda x: x.replace('_y', ''), inplace=True)\n",
    "print df_final"
   ]
  },
  {
   "cell_type": "code",
   "execution_count": 13,
   "metadata": {
    "collapsed": false
   },
   "outputs": [
    {
     "name": "stdout",
     "output_type": "stream",
     "text": [
      "            FACBX      FADCX      FAERX      FAGAX  FAHCX  FAHEX      FARVX  \\\n",
      "Date                                                                          \n",
      "2013-01-31    NaN  16.100000  18.730000  43.389999   9.87  10.45  51.200001   \n",
      "2013-02-28    NaN  15.870000  18.459999  43.240002   9.90  10.48  51.470001   \n",
      "2013-03-31    NaN  16.250000  18.750000  45.080002   9.99  10.58  52.490002   \n",
      "2013-04-30    NaN  17.010000  19.500000  46.389999  10.12  10.72  53.250000   \n",
      "2013-05-31    NaN  16.690001  19.340000  48.299999  10.05  10.65  53.540001   \n",
      "2013-06-30    NaN  16.299999  18.950001  47.169998   9.75  10.34  52.599998   \n",
      "2013-07-31    NaN  17.230000  20.230000  50.740002   9.91  10.50  54.439999   \n",
      "2013-08-31    NaN  16.730000  19.940001  50.029999   9.76  10.35  53.470001   \n",
      "2013-09-30    NaN  17.950001  21.520000  53.060001   9.85  10.44  53.869999   \n",
      "2013-10-31    NaN  18.629999  22.160000  53.709999  10.10  10.71  55.130001   \n",
      "2013-11-30    NaN  18.959999  22.690001  54.889999  10.16  10.78  55.860001   \n",
      "2013-12-31    NaN  19.180000  23.180000  56.520000  10.09  10.71  56.130001   \n",
      "2014-01-31    NaN  18.320000  22.000000  56.570000  10.02  10.64  55.320000   \n",
      "2014-02-28    NaN  19.350000  23.139999  60.110001  10.24  10.88  57.060001   \n",
      "2014-03-31    NaN  19.059999  22.430000  57.540001  10.21  10.85  56.959999   \n",
      "2014-04-30    NaN  19.100000  22.260000  55.480000  10.19  10.84  56.860001   \n",
      "2014-05-31    NaN  19.510000  22.680000  57.009998  10.30  10.95  57.750000   \n",
      "2014-06-30    NaN  19.730000  22.889999  59.000000  10.42  11.08  58.660000   \n",
      "2014-07-31    NaN  19.219999  22.309999  57.270000  10.20  10.85  57.740002   \n",
      "2014-08-31    NaN  19.290001  22.549999  60.470001  10.38  11.04  58.970001   \n",
      "2014-09-30    NaN  18.629999  21.719999  59.110001  10.08  10.73  57.490002   \n",
      "2014-10-31    NaN  18.680000  21.620001  61.630001  10.20  10.86  58.180000   \n",
      "2014-11-30    NaN  18.910000  21.850000  63.450001  10.17  10.82  58.840000   \n",
      "2014-12-31    NaN  18.340000  21.150000  63.130001  10.02  10.67  57.900002   \n",
      "2015-01-31    NaN  18.510000  21.150000  62.500000  10.05  10.69  57.480000   \n",
      "2015-02-28    NaN  19.629999  22.389999  66.320000  10.29  10.96  59.419998   \n",
      "2015-03-31    NaN  19.540001  22.219999  64.820000  10.25  10.91  59.180000   \n",
      "2015-04-30  14.57  19.990000  23.139999  65.099998  10.30  10.97  59.509998   \n",
      "2015-05-31  14.58  20.330000  23.420000  66.809998  10.37  11.04  59.900002   \n",
      "2015-06-30  14.42  19.980000  23.080000  65.930000  10.17  10.83  59.110001   \n",
      "2015-07-31  14.44  20.440001  23.440001  68.180000  10.11  10.76  59.570000   \n",
      "2015-08-31  14.21  18.959999  21.770000  63.439999   9.86  10.49  57.180000   \n",
      "2015-09-30  13.99  18.059999  20.780001  60.689999   9.53  10.14  54.630001   \n",
      "2015-10-31  14.30  19.190001  22.110001  65.930000   9.78  10.41  56.799999   \n",
      "2015-11-30  14.25  19.129999  22.070000  66.870003   9.65  10.27  56.810001   \n",
      "2015-12-31  14.10  18.900000  21.850000  59.689999   9.28   9.87  55.439999   \n",
      "2016-01-31  13.95  17.700001  20.230000  53.439999   8.94   9.51  53.400002   \n",
      "2016-02-29  13.95  17.309999  19.840000  52.599998   8.89   9.46  53.189999   \n",
      "2016-03-31  14.29  18.330000  21.000000  56.220001   9.30   9.90  55.540001   \n",
      "2016-04-30  14.41  18.430000  21.240000  56.360001   9.57  10.19  56.080002   \n",
      "2016-05-31  14.43  18.670000  21.530001  57.580002   9.62  10.24  56.610001   \n",
      "2016-06-30    NaN  17.920000  20.309999  55.770000   9.57  10.19  56.369999   \n",
      "2016-07-31    NaN  18.690001  21.209999  59.220001   9.83  10.46  57.910000   \n",
      "2016-08-31    NaN  18.860001  21.340000  59.000000  10.00  10.64  58.209999   \n",
      "2016-09-30    NaN  19.090000  21.740000  59.639999  10.01  10.65  58.279999   \n",
      "2016-10-31    NaN  18.480000  20.910000  57.720001   9.91  10.55  57.360001   \n",
      "2016-11-30    NaN  17.910000  20.180000  58.240002   9.92  10.56  57.970001   \n",
      "2016-12-31    NaN  18.120001  20.420000  51.740002  10.03  10.68  58.049999   \n",
      "2017-01-31    NaN  18.660000  20.969999  54.009998  10.23  10.89  58.959999   \n",
      "2017-02-28    NaN  18.959999  21.350000  56.720001  10.40  11.07  60.099998   \n",
      "2017-03-31    NaN  19.520000  22.110001  57.860001  10.34  11.01  60.299999   \n",
      "2017-04-30    NaN  20.299999  23.240000  59.529999  10.43  11.10  60.790001   \n",
      "2017-05-31    NaN  21.070000  24.250000  61.430000  10.48  11.16  61.529999   \n",
      "2017-06-30    NaN  20.959999  24.200001  62.189999  10.44  11.11  61.669998   \n",
      "2017-07-31    NaN  21.629999  24.799999  64.040001  10.57  11.25  62.660000   \n",
      "2017-08-31    NaN  21.590000  24.850000  65.220001  10.54  11.21  62.930000   \n",
      "2017-09-30    NaN  21.980000  25.530001  65.410004  10.65  11.34  51.880001   \n",
      "2017-10-31    NaN  22.350000  25.840000  68.029999  10.70  11.39  52.369999   \n",
      "2017-11-30    NaN  22.520000  26.020000  68.760002  10.66  11.35  52.799999   \n",
      "2017-12-31    NaN  22.719999  25.540001  64.730003  10.66  11.35  52.200001   \n",
      "\n",
      "                FAVCX  FBLAX  FBLEX    ...      FTRGX  FTXIX  FUAMX  FUMBX  \\\n",
      "Date                                   ...                                   \n",
      "2013-01-31  10.990000  10.83  10.71    ...        NaN    NaN    NaN    NaN   \n",
      "2013-02-28  11.050000  10.83  10.83    ...        NaN    NaN    NaN    NaN   \n",
      "2013-03-31  11.500000  11.03  11.20    ...        NaN    NaN    NaN    NaN   \n",
      "2013-04-30  11.730000  11.13  11.38    ...        NaN    NaN    NaN    NaN   \n",
      "2013-05-31  12.070000  11.10  11.69    ...        NaN    NaN    NaN    NaN   \n",
      "2013-06-30  11.980000  10.79  11.64    ...        NaN    NaN    NaN    NaN   \n",
      "2013-07-31  12.650000  11.08  12.25    ...        NaN    NaN    NaN    NaN   \n",
      "2013-08-31  12.270000  10.89  11.86    ...        NaN    NaN    NaN    NaN   \n",
      "2013-09-30  12.580000  11.08  12.18    ...        NaN    NaN    NaN    NaN   \n",
      "2013-10-31  12.990000  11.43  12.55    ...        NaN    NaN    NaN    NaN   \n",
      "2013-11-30  13.630000  11.45  12.86    ...        NaN    NaN    NaN    NaN   \n",
      "2013-12-31  13.910000  11.42  12.41    ...        NaN    NaN    NaN    NaN   \n",
      "2014-01-31  13.430000  11.19  11.96    ...        NaN    NaN    NaN    NaN   \n",
      "2014-02-28  14.000000  11.51  12.42    ...        NaN    NaN    NaN    NaN   \n",
      "2014-03-31  14.380000  11.61  12.52    ...        NaN    NaN    NaN    NaN   \n",
      "2014-04-30  14.450000  11.75  12.64    ...        NaN    NaN    NaN    NaN   \n",
      "2014-05-31  14.740000  11.87  12.86    ...        NaN    NaN    NaN    NaN   \n",
      "2014-06-30  14.970000  12.08  13.22    ...      11.07    NaN    NaN    NaN   \n",
      "2014-07-31  14.800000  11.85  13.03    ...      11.03    NaN    NaN    NaN   \n",
      "2014-08-31  15.260000  12.12  13.53    ...      11.10    NaN    NaN    NaN   \n",
      "2014-09-30  14.850000  11.84  13.24    ...      11.04    NaN    NaN    NaN   \n",
      "2014-10-31  15.250000  11.86  13.63    ...      11.10    NaN    NaN    NaN   \n",
      "2014-11-30  15.630000  11.97  13.93    ...      11.16    NaN    NaN    NaN   \n",
      "2014-12-31  15.670000  11.74  13.18    ...      11.14    NaN    NaN    NaN   \n",
      "2015-01-31  15.150000  11.61  12.67    ...      11.38    NaN    NaN    NaN   \n",
      "2015-02-28  15.980000  11.97  13.39    ...      11.20    NaN    NaN    NaN   \n",
      "2015-03-31  15.810000  11.79  12.99    ...      11.24    NaN    NaN    NaN   \n",
      "2015-04-30  15.930000  11.88  13.13    ...      11.18    NaN    NaN    NaN   \n",
      "2015-05-31  16.000000  11.83  13.28    ...      11.13    NaN    NaN    NaN   \n",
      "2015-06-30  15.650000  11.48  12.93    ...      10.95    NaN    NaN    NaN   \n",
      "2015-07-31  15.790000  11.49  12.95    ...      11.02    NaN    NaN    NaN   \n",
      "2015-08-31  14.820000  11.01  12.13    ...      11.00    NaN    NaN    NaN   \n",
      "2015-09-30  14.360000  10.79  11.69    ...      11.06    NaN    NaN    NaN   \n",
      "2015-10-31  15.250000  11.40  12.47    ...      11.02    NaN    NaN    NaN   \n",
      "2015-11-30  15.270000  11.30  12.43    ...      10.97    NaN    NaN    NaN   \n",
      "2015-12-31  14.750000  11.05  10.90    ...      10.86    NaN    NaN    NaN   \n",
      "2016-01-31  14.080000  10.74  10.38    ...      11.05    NaN    NaN    NaN   \n",
      "2016-02-29  14.040000  10.79  10.48    ...      11.10    NaN    NaN    NaN   \n",
      "2016-03-31  14.830000  11.29  11.04    ...      11.11    NaN    NaN    NaN   \n",
      "2016-04-30  14.980000  11.41  11.28    ...      11.08    NaN    NaN    NaN   \n",
      "2016-05-31  15.120000  11.40  11.40    ...      11.06    NaN    NaN    NaN   \n",
      "2016-06-30  14.790000  11.52  11.42    ...      11.26    NaN    NaN    NaN   \n",
      "2016-07-31  15.310000  11.84  11.71    ...      11.29    NaN    NaN    NaN   \n",
      "2016-08-31  15.520000  11.85  11.79    ...      11.22    NaN    NaN    NaN   \n",
      "2016-09-30  15.410000  11.77  11.79    ...      11.21    NaN    NaN    NaN   \n",
      "2016-10-31  15.180000  11.65  11.63    ...      11.08    NaN    NaN    NaN   \n",
      "2016-11-30  16.040001  11.84  12.26    ...      10.82    NaN    NaN    NaN   \n",
      "2016-12-31  16.490000  11.82  12.41    ...      10.73    NaN    NaN    NaN   \n",
      "2017-01-31  16.770000  11.85  12.49    ...      10.74    NaN    NaN    NaN   \n",
      "2017-02-28  17.290001  12.08  12.95    ...      10.77    NaN    NaN    NaN   \n",
      "2017-03-31  17.160000  12.04  12.75    ...      10.75    NaN    NaN    NaN   \n",
      "2017-04-30  17.209999  12.02  12.69    ...      10.81    NaN    NaN    NaN   \n",
      "2017-05-31  17.080000  12.02  12.67    ...      10.85    NaN    NaN    NaN   \n",
      "2017-06-30  17.420000  12.00  12.83    ...      10.83    NaN    NaN    NaN   \n",
      "2017-07-31  17.799999  12.14  13.04    ...      10.83    NaN    NaN    NaN   \n",
      "2017-08-31  17.389999  12.10  12.95    ...      10.92    NaN    NaN    NaN   \n",
      "2017-09-30  17.790001  12.33  13.29    ...      10.82    NaN    NaN    NaN   \n",
      "2017-10-31  17.820000  12.36  13.27    ...      10.80    NaN  10.73  10.37   \n",
      "2017-11-30  18.330000  12.44  13.68    ...      10.77    NaN  10.67  10.33   \n",
      "2017-12-31  18.590000  12.34  13.01    ...      10.74    NaN  10.67  10.32   \n",
      "\n",
      "            FUSRX  FVALX      FVIFX      FWAFX      FWIFX      FZAPX  \n",
      "Date                                                                  \n",
      "2013-01-31   6.75  11.60  15.680000  21.120001  21.190001        NaN  \n",
      "2013-02-28   6.74  11.73  15.970000  21.170000  21.240000        NaN  \n",
      "2013-03-31   6.73  12.08  16.620001  21.790001  21.870001        NaN  \n",
      "2013-04-30   6.74  12.17  16.750000  22.410000  22.490000        NaN  \n",
      "2013-05-31   6.60  12.14  17.320000  22.590000  22.680000        NaN  \n",
      "2013-06-30   6.53  12.12  17.139999  21.980000  22.070000        NaN  \n",
      "2013-07-31   6.49  12.22  18.090000  23.490000  23.590000        NaN  \n",
      "2013-08-31   6.46  11.92  17.549999  22.930000  23.030001  33.189999  \n",
      "2013-09-30   6.53  11.88  18.370001  24.379999  24.490000  34.730000  \n",
      "2013-10-31   6.54  12.04  19.090000  25.180000  25.309999  35.830002  \n",
      "2013-11-30   6.50  12.34  19.420000  25.740000  25.879999  36.779999  \n",
      "2013-12-31   6.45  12.35  19.920000  24.420000  24.520000  35.529999  \n",
      "2014-01-31   6.53  12.09  19.570000  23.969999  24.080000  34.779999  \n",
      "2014-02-28   6.53  12.41  20.510000  25.330000  25.450001  36.630001  \n",
      "2014-03-31   6.48  12.50  20.670000  24.469999  24.590000  36.500000  \n",
      "2014-04-30   6.50  12.45  20.580000  24.049999  24.180000  36.259998  \n",
      "2014-05-31   6.53  12.41  20.990000  24.719999  24.860001  37.160000  \n",
      "2014-06-30   6.53  12.42  21.750000  25.320000  25.469999  38.369999  \n",
      "2014-07-31   6.48  12.34  21.090000  24.459999  24.610001  37.419998  \n",
      "2014-08-31   6.50  12.44  22.040001  25.010000  25.170000  38.980000  \n",
      "2014-09-30   6.48  12.30  21.059999  24.260000  24.430000  38.090000  \n",
      "2014-10-31   6.51  12.53  21.709999  24.650000  24.809999  38.959999  \n",
      "2014-11-30   6.51  12.70  22.110001  24.950001  25.120001  39.650002  \n",
      "2014-12-31   6.50  12.66  22.090000  22.100000  22.190001  35.240002  \n",
      "2015-01-31   6.50  12.59  21.520000  21.969999  22.070000  34.560001  \n",
      "2015-02-28   6.50  12.56  22.750000  23.280001  23.389999  36.599998  \n",
      "2015-03-31   6.50  12.54  22.760000  23.240000  23.350000  36.509998  \n",
      "2015-04-30   6.50  12.38  22.840000  23.260000  23.379999  36.669998  \n",
      "2015-05-31   6.48  12.34  23.309999  23.740000  23.870001  37.200001  \n",
      "2015-06-30   6.42  12.23  22.730000  23.559999  23.700001  36.540001  \n",
      "2015-07-31   6.42  12.14  22.650000  24.120001  24.260000  36.860001  \n",
      "2015-08-31   6.39  12.31  21.440001  22.389999  22.530001  34.310001  \n",
      "2015-09-30   6.40  12.06  20.320000  21.600000  21.740000  32.950001  \n",
      "2015-10-31   6.38  11.95  21.600000  22.879999  23.030001  35.560001  \n",
      "2015-11-30   6.36  11.91  21.540001  23.030001  23.180000  35.919998  \n",
      "2015-12-31   6.34  11.89  20.129999  22.000000  22.120001  33.470001  \n",
      "2016-01-31   6.38  12.01  18.820000  20.530001  20.639999  31.260000  \n",
      "2016-02-29   6.38  12.22  19.059999  20.160000  20.280001  31.049999  \n",
      "2016-03-31   6.37  12.26  20.660000  21.370001  21.500000  33.130001  \n",
      "2016-04-30   6.36  12.07  21.070000  21.570000  21.700001  33.560001  \n",
      "2016-05-31   6.35  11.83  21.400000  21.820000  21.959999  34.130001  \n",
      "2016-06-30   6.37  11.98  21.000000  21.459999  21.600000  34.080002  \n",
      "2016-07-31   6.35  12.01  22.000000  22.280001  22.430000  35.470001  \n",
      "2016-08-31   6.34  11.75  22.129999  22.240000  22.389999  35.810001  \n",
      "2016-09-30   6.34  11.51  22.190001  22.620001  22.780001  35.980000  \n",
      "2016-10-31   6.32  11.30  21.650000  21.830000  21.990000  35.049999  \n",
      "2016-11-30   6.22  11.26  22.889999  21.610001  21.780001  36.110001  \n",
      "2016-12-31   6.20  11.36  23.129999  21.610001  21.719999  36.320000  \n",
      "2017-01-31   6.18  11.17  23.549999  22.309999  22.440001  37.520000  \n",
      "2017-02-28   6.18  11.29  24.290001  22.799999  22.930000  38.939999  \n",
      "2017-03-31   6.16  11.12  24.219999  23.230000  23.370001  39.220001  \n",
      "2017-04-30   6.17  11.11  24.440001  23.889999  24.040001  39.660000  \n",
      "2017-05-31   6.17  11.08  24.459999  24.690001  24.850000  40.560001  \n",
      "2017-06-30   6.13  11.15  24.780001  24.660000  24.830000  40.830002  \n",
      "2017-07-31   6.13  11.12  25.280001  25.629999  25.799999  41.770000  \n",
      "2017-08-31   6.14  10.96  24.930000  26.059999  26.240000  42.049999  \n",
      "2017-09-30   6.12  11.06  25.530001  26.320000  26.510000  43.020000  \n",
      "2017-10-31   6.10  11.16  25.650000  27.280001  27.490000  44.049999  \n",
      "2017-11-30   6.07  11.20  26.180000  27.680000  27.900000  45.169998  \n",
      "2017-12-31   6.06  11.02  25.760000  26.139999  26.290001  43.840000  \n",
      "\n",
      "[60 rows x 1900 columns]\n",
      "            FACBX      FADCX      FAERX      FAGAX  FAHCX  FAHEX      FARVX  \\\n",
      "Date                                                                          \n",
      "2013-01-31    NaN  15.790000  18.240000  42.509998   9.78  10.35  50.450001   \n",
      "2013-02-28    NaN  16.240000  18.900000  43.709999   9.89  10.46  51.470001   \n",
      "2013-03-31    NaN  15.890000  18.440001  43.500000   9.90  10.48  51.520000   \n",
      "2013-04-30    NaN  16.160000  18.650000  44.619999   9.99  10.58  52.320000   \n",
      "2013-05-31    NaN  16.940001  19.440001  45.970001  10.12  10.72  52.980000   \n",
      "2013-06-30    NaN  16.700001  19.370001  48.250000  10.02  10.62  53.619999   \n",
      "2013-07-31    NaN  16.500000  19.209999  47.709999   9.78  10.36  52.889999   \n",
      "2013-08-31    NaN  17.400000  20.430000  51.650002   9.93  10.52  54.830002   \n",
      "2013-09-30    NaN  16.980000  20.290001  50.480000   9.77  10.36  53.669998   \n",
      "2013-10-31    NaN  18.070000  21.660000  53.849998   9.87  10.46  54.139999   \n",
      "2013-11-30    NaN  18.549999  22.070000  53.700001  10.10  10.71  55.090000   \n",
      "2013-12-31    NaN  18.860001  22.620001  54.820000  10.16  10.78  55.720001   \n",
      "2014-01-31    NaN  18.940001  22.910000  56.130001  10.09  10.71  55.840000   \n",
      "2014-02-28    NaN  17.980000  21.570000  55.049999   9.97  10.59  54.610001   \n",
      "2014-03-31    NaN  18.930000  22.610001  59.700001  10.22  10.86  56.750000   \n",
      "2014-04-30    NaN  19.190001  22.629999  58.470001  10.23  10.87  57.230000   \n",
      "2014-05-31    NaN  19.180000  22.370001  55.689999  10.21  10.85  56.950001   \n",
      "2014-06-30    NaN  19.549999  22.730000  56.950001  10.30  10.96  57.770000   \n",
      "2014-07-31    NaN  19.910000  23.110001  59.700001  10.43  11.09  58.910000   \n",
      "2014-08-31    NaN  19.129999  22.240000  57.119999  10.14  10.79  57.630001   \n",
      "2014-09-30    NaN  19.280001  22.570000  60.560001  10.38  11.05  58.959999   \n",
      "2014-10-31    NaN  18.629999  21.719999  59.110001  10.08  10.73  57.490002   \n",
      "2014-11-30    NaN  18.570000  21.510000  61.689999  10.19  10.84  58.130001   \n",
      "2014-12-31    NaN  18.870001  21.760000  62.509998  10.10  10.75  58.500000   \n",
      "2015-01-31    NaN  18.250000  21.040001  63.029999  10.02  10.67  57.869999   \n",
      "2015-02-28    NaN  18.670000  21.350000  62.910000  10.06  10.70  57.830002   \n",
      "2015-03-31    NaN  19.650000  22.350000  66.709999  10.32  10.99  59.590000   \n",
      "2015-04-30  14.57  19.610001  22.309999  64.540001  10.26  10.92  59.180000   \n",
      "2015-05-31  14.58  20.070000  23.200001  66.029999  10.33  11.00  59.750000   \n",
      "2015-06-30  14.55  20.309999  23.420000  67.089996  10.38  11.05  59.889999   \n",
      "2015-07-31  14.42  20.139999  23.240000  66.139999  10.19  10.84  59.290001   \n",
      "2015-08-31  14.46  20.500000  23.480000  68.019997  10.10  10.75  59.509998   \n",
      "2015-09-30  14.09  18.410000  21.120001  61.669998   9.80  10.42  56.209999   \n",
      "2015-10-31  14.06  18.139999  20.850000  60.950001   9.50  10.11  54.720001   \n",
      "2015-11-30  14.33  19.320000  22.230000  66.730003   9.80  10.43  57.180000   \n",
      "2015-12-31  14.30  19.299999  22.290001  67.620003   9.69  10.32  57.180000   \n",
      "2016-01-31  14.05  18.540001  21.430000  58.590000   9.22   9.82  54.939999   \n",
      "2016-02-29  13.94  17.760000  20.320000  53.619999   8.93   9.51  53.389999   \n",
      "2016-03-31  14.01  17.719999  20.240000  54.049999   8.98   9.56  53.889999   \n",
      "2016-04-30  14.29  18.219999  20.809999  56.900002   9.30   9.90  55.619999   \n",
      "2016-05-31  14.41  18.549999  21.430000  56.900002   9.58  10.19  56.270000   \n",
      "2016-06-30  14.44  18.650000  21.469999  57.669998   9.61  10.23  56.650002   \n",
      "2016-07-31    NaN  17.990000  20.389999  56.139999   9.60  10.22  56.490002   \n",
      "2016-08-31    NaN  18.660000  21.129999  59.480000   9.82  10.45  57.779999   \n",
      "2016-09-30    NaN  19.000000  21.469999  59.139999   9.99  10.63  58.259998   \n",
      "2016-10-31    NaN  19.100000  21.740000  59.610001  10.01  10.65  58.200001   \n",
      "2016-11-30    NaN  18.420000  20.860001  57.279999   9.87  10.50  57.160000   \n",
      "2016-12-31    NaN  17.780001  20.070000  57.340000   9.91  10.54  57.820000   \n",
      "2017-01-31    NaN  18.190001  20.500000  52.150002  10.07  10.72  58.320000   \n",
      "2017-02-28    NaN  18.760000  21.049999  54.310001  10.25  10.91  59.020000   \n",
      "2017-03-31    NaN  19.160000  21.530001  57.389999  10.47  11.14  60.509998   \n",
      "2017-04-30    NaN  19.490000  22.110001  57.849998  10.34  11.00  60.270000   \n",
      "2017-05-31    NaN  20.330000  23.280001  59.990002  10.43  11.10  61.049999   \n",
      "2017-06-30    NaN  21.180000  24.379999  62.009998  10.53  11.20  61.759998   \n",
      "2017-07-31    NaN  20.950001  24.150000  61.889999  10.45  11.12  61.700001   \n",
      "2017-08-31    NaN  21.730000  24.950001  64.160004  10.58  11.26  62.779999   \n",
      "2017-09-30    NaN  21.620001  24.920000  65.279999  10.55  11.23  63.009998   \n",
      "2017-10-31    NaN  21.969999  25.510000  65.550003  10.66  11.35  51.939999   \n",
      "2017-11-30    NaN  22.389999  25.850000  67.879997  10.72  11.41  52.450001   \n",
      "2017-12-31    NaN  22.379999  25.900000  68.470001  10.66  11.35  52.799999   \n",
      "\n",
      "                FAVCX  FBLAX  FBLEX    ...      FTRGX  FTXIX  FUAMX  FUMBX  \\\n",
      "Date                                   ...                                   \n",
      "2013-01-31  10.650000  10.73  10.27    ...        NaN    NaN    NaN    NaN   \n",
      "2013-02-28  11.060000  10.87  10.78    ...        NaN    NaN    NaN    NaN   \n",
      "2013-03-31  11.080000  10.83  10.84    ...        NaN    NaN    NaN    NaN   \n",
      "2013-04-30  11.470000  10.98  11.15    ...        NaN    NaN    NaN    NaN   \n",
      "2013-05-31  11.640000  11.07  11.25    ...        NaN    NaN    NaN    NaN   \n",
      "2013-06-30  12.130000  11.14  11.76    ...        NaN    NaN    NaN    NaN   \n",
      "2013-07-31  12.040000  10.81  11.70    ...        NaN    NaN    NaN    NaN   \n",
      "2013-08-31  12.790000  11.14  12.42    ...        NaN    NaN    NaN    NaN   \n",
      "2013-09-30  12.330000  10.89  11.89    ...        NaN    NaN    NaN    NaN   \n",
      "2013-10-31  12.690000  11.11  12.28    ...        NaN    NaN    NaN    NaN   \n",
      "2013-11-30  13.030000  11.44  12.57    ...        NaN    NaN    NaN    NaN   \n",
      "2013-12-31  13.600000  11.40  12.84    ...        NaN    NaN    NaN    NaN   \n",
      "2014-01-31  13.780000  11.35  12.29    ...        NaN    NaN    NaN    NaN   \n",
      "2014-02-28  13.170000  11.07  11.71    ...        NaN    NaN    NaN    NaN   \n",
      "2014-03-31  13.920000  11.46  12.34    ...        NaN    NaN    NaN    NaN   \n",
      "2014-04-30  14.460000  11.64  12.57    ...        NaN    NaN    NaN    NaN   \n",
      "2014-05-31  14.450000  11.73  12.66    ...        NaN    NaN    NaN    NaN   \n",
      "2014-06-30  14.750000  11.88  12.89    ...        NaN    NaN    NaN    NaN   \n",
      "2014-07-31  15.050000  12.11  13.28    ...      11.06    NaN    NaN    NaN   \n",
      "2014-08-31  14.740000  11.83  13.00    ...      11.06    NaN    NaN    NaN   \n",
      "2014-09-30  15.220000  12.08  13.50    ...      11.07    NaN    NaN    NaN   \n",
      "2014-10-31  14.850000  11.76  13.24    ...      11.08    NaN    NaN    NaN   \n",
      "2014-11-30  15.220000  11.85  13.62    ...      11.09    NaN    NaN    NaN   \n",
      "2014-12-31  15.590000  11.90  13.85    ...      11.14    NaN    NaN    NaN   \n",
      "2015-01-31  15.650000  11.75  13.17    ...      11.16    NaN    NaN    NaN   \n",
      "2015-02-28  15.340000  11.70  12.84    ...      11.37    NaN    NaN    NaN   \n",
      "2015-03-31  16.059999  11.98  13.44    ...      11.16    NaN    NaN    NaN   \n",
      "2015-04-30  15.770000  11.78  12.96    ...      11.28    NaN    NaN    NaN   \n",
      "2015-05-31  16.040001  11.91  13.24    ...      11.14    NaN    NaN    NaN   \n",
      "2015-06-30  15.990000  11.83  13.29    ...      11.10    NaN    NaN    NaN   \n",
      "2015-07-31  15.770000  11.49  13.01    ...      10.91    NaN    NaN    NaN   \n",
      "2015-08-31  15.700000  11.46  12.88    ...      11.04    NaN    NaN    NaN   \n",
      "2015-09-30  14.410000  10.81  11.78    ...      11.02    NaN    NaN    NaN   \n",
      "2015-10-31  14.350000  10.78  11.69    ...      11.07    NaN    NaN    NaN   \n",
      "2015-11-30  15.470000  11.46  12.64    ...      11.00    NaN    NaN    NaN   \n",
      "2015-12-31  15.420000  11.36  12.55    ...      11.00    NaN    NaN    NaN   \n",
      "2016-01-31  14.590000  10.97  10.78    ...      10.88    NaN    NaN    NaN   \n",
      "2016-02-29  14.060000  10.72  10.35    ...      11.03    NaN    NaN    NaN   \n",
      "2016-03-31  14.340000  10.94  10.71    ...      11.06    NaN    NaN    NaN   \n",
      "2016-04-30  14.880000  11.30  11.09    ...      11.11    NaN    NaN    NaN   \n",
      "2016-05-31  15.080000  11.45  11.34    ...      11.06    NaN    NaN    NaN   \n",
      "2016-06-30  15.160000  11.41  11.44    ...      11.06    NaN    NaN    NaN   \n",
      "2016-07-31  14.800000  11.56  11.42    ...      11.28    NaN    NaN    NaN   \n",
      "2016-08-31  15.260000  11.80  11.64    ...      11.26    NaN    NaN    NaN   \n",
      "2016-09-30  15.490000  11.85  11.78    ...      11.23    NaN    NaN    NaN   \n",
      "2016-10-31  15.400000  11.76  11.75    ...      11.20    NaN    NaN    NaN   \n",
      "2016-11-30  15.120000  11.62  11.57    ...      11.09    NaN    NaN    NaN   \n",
      "2016-12-31  16.090000  11.84  12.28    ...      10.79    NaN    NaN    NaN   \n",
      "2017-01-31  16.660000  11.88  12.49    ...      10.74    NaN    NaN    NaN   \n",
      "2017-02-28  16.830000  11.85  12.47    ...      10.73    NaN    NaN    NaN   \n",
      "2017-03-31  17.500000  12.16  13.12    ...      10.72    NaN    NaN    NaN   \n",
      "2017-04-30  17.120001  12.03  12.71    ...      10.78    NaN    NaN    NaN   \n",
      "2017-05-31  17.230000  12.01  12.69    ...      10.79    NaN    NaN    NaN   \n",
      "2017-06-30  17.270000  12.07  12.79    ...      10.85    NaN    NaN    NaN   \n",
      "2017-07-31  17.530001  12.05  12.92    ...      10.81    NaN    NaN    NaN   \n",
      "2017-08-31  17.830000  12.15  13.07    ...      10.85    NaN    NaN    NaN   \n",
      "2017-09-30  17.440001  12.12  13.00    ...      10.90    NaN    NaN    NaN   \n",
      "2017-10-31  17.889999  12.35  13.37    ...      10.81    NaN    NaN    NaN   \n",
      "2017-11-30  17.850000  12.38  13.32    ...      10.80    NaN  10.73  10.37   \n",
      "2017-12-31  18.320000  12.43  13.70    ...      10.80    NaN  10.70  10.34   \n",
      "\n",
      "            FUSRX  FVALX      FVIFX      FWAFX      FWIFX      FZAPX  \n",
      "Date                                                                  \n",
      "2013-01-31   6.80  11.47  15.020000  20.670000  20.730000        NaN  \n",
      "2013-02-28   6.75  11.65  15.830000  21.340000  21.400000        NaN  \n",
      "2013-03-31   6.75  11.75  15.960000  21.219999  21.290001        NaN  \n",
      "2013-04-30   6.73  12.07  16.490000  21.650000  21.719999        NaN  \n",
      "2013-05-31   6.74  12.12  16.510000  22.200001  22.280001        NaN  \n",
      "2013-06-30   6.60  12.21  17.340000  22.559999  22.650000        NaN  \n",
      "2013-07-31   6.55  12.10  17.250000  22.379999  22.469999        NaN  \n",
      "2013-08-31   6.48  12.26  18.379999  23.850000  23.950001        NaN  \n",
      "2013-09-30   6.45  11.88  17.610001  23.270000  23.379999  33.419998  \n",
      "2013-10-31   6.53  11.91  18.559999  24.590000  24.709999  35.060001  \n",
      "2013-11-30   6.54  12.05  19.110001  25.160000  25.290001  35.889999  \n",
      "2013-12-31   6.50  12.30  19.389999  25.670000  25.809999  36.669998  \n",
      "2014-01-31   6.46  12.26  19.740000  24.190001  24.290001  35.230000  \n",
      "2014-02-28   6.55  12.03  19.080000  23.450001  23.549999  33.919998  \n",
      "2014-03-31   6.54  12.37  20.350000  24.870001  24.990000  36.369999  \n",
      "2014-04-30   6.48  12.50  20.790001  24.740000  24.870001  36.849998  \n",
      "2014-05-31   6.52  12.42  20.660000  24.150000  24.270000  36.369999  \n",
      "2014-06-30   6.52  12.40  21.049999  24.790001  24.920000  37.150002  \n",
      "2014-07-31   6.52  12.46  21.870001  25.540001  25.690001  38.650002  \n",
      "2014-08-31   6.50  12.36  21.030001  24.350000  24.500000  37.290001  \n",
      "2014-09-30   6.50  12.40  22.049999  25.059999  25.209999  39.029999  \n",
      "2014-10-31   6.51  12.25  21.059999  24.260000  24.430000  38.090000  \n",
      "2014-11-30   6.51  12.53  21.770000  24.580000  24.750000  38.900002  \n",
      "2014-12-31   6.52  12.70  21.860001  24.799999  24.969999  39.200001  \n",
      "2015-01-31   6.51  12.63  22.049999  22.059999  22.150000  35.200001  \n",
      "2015-02-28   6.51  12.60  21.760000  22.129999  22.230000  34.930000  \n",
      "2015-03-31   6.50  12.55  22.820000  23.420000  23.530001  36.810001  \n",
      "2015-04-30   6.52  12.52  22.730000  23.209999  23.330000  36.439999  \n",
      "2015-05-31   6.50  12.41  23.049999  23.410000  23.530001  36.980000  \n",
      "2015-06-30   6.48  12.33  23.330000  23.770000  23.900000  37.259998  \n",
      "2015-07-31   6.42  12.24  22.809999  23.700001  23.840000  36.709999  \n",
      "2015-08-31   6.43  12.11  22.570000  24.129999  24.270000  36.740002  \n",
      "2015-09-30   6.40  12.40  20.840000  21.820000  21.950001  33.310001  \n",
      "2015-10-31   6.41  12.04  20.299999  21.730000  21.870001  33.029999  \n",
      "2015-11-30   6.39  12.04  21.879999  23.110001  23.260000  36.009998  \n",
      "2015-12-31   6.38  11.99  21.730000  23.250000  23.400000  36.310001  \n",
      "2016-01-31   6.36  11.82  19.920000  21.540001  21.650000  32.900002  \n",
      "2016-02-29   6.38  12.02  18.780001  20.580000  20.690001  31.280001  \n",
      "2016-03-31   6.38  12.24  19.459999  20.600000  20.719999  31.740000  \n",
      "2016-04-30   6.38  12.29  20.709999  21.400000  21.530001  33.299999  \n",
      "2016-05-31   6.36  12.11  21.209999  21.709999  21.850000  33.779999  \n",
      "2016-06-30   6.36  11.85  21.469999  21.820000  21.959999  34.209999  \n",
      "2016-07-31   6.38  11.97  21.059999  21.510000  21.650000  34.150002  \n",
      "2016-08-31   6.35  12.03  21.870001  22.250000  22.400000  35.430000  \n",
      "2016-09-30   6.35  11.73  22.110001  22.320000  22.480000  35.869999  \n",
      "2016-10-31   6.35  11.47  22.090000  22.590000  22.760000  35.860001  \n",
      "2016-11-30   6.33  11.27  21.480000  21.730000  21.900000  34.790001  \n",
      "2016-12-31   6.22  11.23  22.840000  21.520000  21.690001  35.910000  \n",
      "2017-01-31   6.20  11.38  23.360001  21.680000  21.790001  36.630001  \n",
      "2017-02-28   6.17  11.12  23.570000  22.420000  22.549999  37.580002  \n",
      "2017-03-31   6.17  11.37  24.559999  23.180000  23.309999  39.509998  \n",
      "2017-04-30   6.18  11.10  24.090000  23.170000  23.309999  39.160000  \n",
      "2017-05-31   6.17  11.06  24.459999  23.990000  24.139999  40.090000  \n",
      "2017-06-30   6.18  11.17  24.790001  24.840000  25.000000  40.939999  \n",
      "2017-07-31   6.13  11.17  24.959999  24.600000  24.760000  40.880001  \n",
      "2017-08-31   6.14  11.12  25.320000  25.680000  25.860001  41.840000  \n",
      "2017-09-30   6.14  10.97  25.040001  26.090000  26.280001  42.189999  \n",
      "2017-10-31   6.13  11.11  25.680000  26.350000  26.549999  43.240002  \n",
      "2017-11-30   6.10  11.17  25.629999  27.290001  27.500000  44.080002  \n",
      "2017-12-31   6.08  11.22  26.170000  27.559999  27.770000  45.009998  \n",
      "\n",
      "[60 rows x 1900 columns]\n"
     ]
    },
    {
     "ename": "KeyError",
     "evalue": "'NAV_change'",
     "output_type": "error",
     "traceback": [
      "\u001b[0;31m---------------------------------------------------------------------------\u001b[0m",
      "\u001b[0;31mKeyError\u001b[0m                                  Traceback (most recent call last)",
      "\u001b[0;32m<ipython-input-13-098772750b47>\u001b[0m in \u001b[0;36m<module>\u001b[0;34m()\u001b[0m\n\u001b[1;32m      3\u001b[0m \u001b[0;32mprint\u001b[0m \u001b[0;34m(\u001b[0m\u001b[0mmonth_end\u001b[0m\u001b[0;34m)\u001b[0m\u001b[0;34m\u001b[0m\u001b[0m\n\u001b[1;32m      4\u001b[0m \u001b[0;32mprint\u001b[0m\u001b[0;34m(\u001b[0m\u001b[0mmonth_beg\u001b[0m\u001b[0;34m)\u001b[0m\u001b[0;34m\u001b[0m\u001b[0m\n\u001b[0;32m----> 5\u001b[0;31m \u001b[0mdf_final\u001b[0m\u001b[0;34m[\u001b[0m\u001b[0;34m\"NAV_change\"\u001b[0m\u001b[0;34m]\u001b[0m\u001b[0;34m\u001b[0m\u001b[0m\n\u001b[0m",
      "\u001b[0;32m/Library/Frameworks/Python.framework/Versions/2.7/lib/python2.7/site-packages/pandas-0.21.0-py2.7-macosx-10.6-intel.egg/pandas/core/frame.pyc\u001b[0m in \u001b[0;36m__getitem__\u001b[0;34m(self, key)\u001b[0m\n\u001b[1;32m   2137\u001b[0m             \u001b[0;32mreturn\u001b[0m \u001b[0mself\u001b[0m\u001b[0;34m.\u001b[0m\u001b[0m_getitem_multilevel\u001b[0m\u001b[0;34m(\u001b[0m\u001b[0mkey\u001b[0m\u001b[0;34m)\u001b[0m\u001b[0;34m\u001b[0m\u001b[0m\n\u001b[1;32m   2138\u001b[0m         \u001b[0;32melse\u001b[0m\u001b[0;34m:\u001b[0m\u001b[0;34m\u001b[0m\u001b[0m\n\u001b[0;32m-> 2139\u001b[0;31m             \u001b[0;32mreturn\u001b[0m \u001b[0mself\u001b[0m\u001b[0;34m.\u001b[0m\u001b[0m_getitem_column\u001b[0m\u001b[0;34m(\u001b[0m\u001b[0mkey\u001b[0m\u001b[0;34m)\u001b[0m\u001b[0;34m\u001b[0m\u001b[0m\n\u001b[0m\u001b[1;32m   2140\u001b[0m \u001b[0;34m\u001b[0m\u001b[0m\n\u001b[1;32m   2141\u001b[0m     \u001b[0;32mdef\u001b[0m \u001b[0m_getitem_column\u001b[0m\u001b[0;34m(\u001b[0m\u001b[0mself\u001b[0m\u001b[0;34m,\u001b[0m \u001b[0mkey\u001b[0m\u001b[0;34m)\u001b[0m\u001b[0;34m:\u001b[0m\u001b[0;34m\u001b[0m\u001b[0m\n",
      "\u001b[0;32m/Library/Frameworks/Python.framework/Versions/2.7/lib/python2.7/site-packages/pandas-0.21.0-py2.7-macosx-10.6-intel.egg/pandas/core/frame.pyc\u001b[0m in \u001b[0;36m_getitem_column\u001b[0;34m(self, key)\u001b[0m\n\u001b[1;32m   2144\u001b[0m         \u001b[0;31m# get column\u001b[0m\u001b[0;34m\u001b[0m\u001b[0;34m\u001b[0m\u001b[0m\n\u001b[1;32m   2145\u001b[0m         \u001b[0;32mif\u001b[0m \u001b[0mself\u001b[0m\u001b[0;34m.\u001b[0m\u001b[0mcolumns\u001b[0m\u001b[0;34m.\u001b[0m\u001b[0mis_unique\u001b[0m\u001b[0;34m:\u001b[0m\u001b[0;34m\u001b[0m\u001b[0m\n\u001b[0;32m-> 2146\u001b[0;31m             \u001b[0;32mreturn\u001b[0m \u001b[0mself\u001b[0m\u001b[0;34m.\u001b[0m\u001b[0m_get_item_cache\u001b[0m\u001b[0;34m(\u001b[0m\u001b[0mkey\u001b[0m\u001b[0;34m)\u001b[0m\u001b[0;34m\u001b[0m\u001b[0m\n\u001b[0m\u001b[1;32m   2147\u001b[0m \u001b[0;34m\u001b[0m\u001b[0m\n\u001b[1;32m   2148\u001b[0m         \u001b[0;31m# duplicate columns & possible reduce dimensionality\u001b[0m\u001b[0;34m\u001b[0m\u001b[0;34m\u001b[0m\u001b[0m\n",
      "\u001b[0;32m/Library/Frameworks/Python.framework/Versions/2.7/lib/python2.7/site-packages/pandas-0.21.0-py2.7-macosx-10.6-intel.egg/pandas/core/generic.pyc\u001b[0m in \u001b[0;36m_get_item_cache\u001b[0;34m(self, item)\u001b[0m\n\u001b[1;32m   1840\u001b[0m         \u001b[0mres\u001b[0m \u001b[0;34m=\u001b[0m \u001b[0mcache\u001b[0m\u001b[0;34m.\u001b[0m\u001b[0mget\u001b[0m\u001b[0;34m(\u001b[0m\u001b[0mitem\u001b[0m\u001b[0;34m)\u001b[0m\u001b[0;34m\u001b[0m\u001b[0m\n\u001b[1;32m   1841\u001b[0m         \u001b[0;32mif\u001b[0m \u001b[0mres\u001b[0m \u001b[0;32mis\u001b[0m \u001b[0mNone\u001b[0m\u001b[0;34m:\u001b[0m\u001b[0;34m\u001b[0m\u001b[0m\n\u001b[0;32m-> 1842\u001b[0;31m             \u001b[0mvalues\u001b[0m \u001b[0;34m=\u001b[0m \u001b[0mself\u001b[0m\u001b[0;34m.\u001b[0m\u001b[0m_data\u001b[0m\u001b[0;34m.\u001b[0m\u001b[0mget\u001b[0m\u001b[0;34m(\u001b[0m\u001b[0mitem\u001b[0m\u001b[0;34m)\u001b[0m\u001b[0;34m\u001b[0m\u001b[0m\n\u001b[0m\u001b[1;32m   1843\u001b[0m             \u001b[0mres\u001b[0m \u001b[0;34m=\u001b[0m \u001b[0mself\u001b[0m\u001b[0;34m.\u001b[0m\u001b[0m_box_item_values\u001b[0m\u001b[0;34m(\u001b[0m\u001b[0mitem\u001b[0m\u001b[0;34m,\u001b[0m \u001b[0mvalues\u001b[0m\u001b[0;34m)\u001b[0m\u001b[0;34m\u001b[0m\u001b[0m\n\u001b[1;32m   1844\u001b[0m             \u001b[0mcache\u001b[0m\u001b[0;34m[\u001b[0m\u001b[0mitem\u001b[0m\u001b[0;34m]\u001b[0m \u001b[0;34m=\u001b[0m \u001b[0mres\u001b[0m\u001b[0;34m\u001b[0m\u001b[0m\n",
      "\u001b[0;32m/Library/Frameworks/Python.framework/Versions/2.7/lib/python2.7/site-packages/pandas-0.21.0-py2.7-macosx-10.6-intel.egg/pandas/core/internals.pyc\u001b[0m in \u001b[0;36mget\u001b[0;34m(self, item, fastpath)\u001b[0m\n\u001b[1;32m   3836\u001b[0m \u001b[0;34m\u001b[0m\u001b[0m\n\u001b[1;32m   3837\u001b[0m             \u001b[0;32mif\u001b[0m \u001b[0;32mnot\u001b[0m \u001b[0misna\u001b[0m\u001b[0;34m(\u001b[0m\u001b[0mitem\u001b[0m\u001b[0;34m)\u001b[0m\u001b[0;34m:\u001b[0m\u001b[0;34m\u001b[0m\u001b[0m\n\u001b[0;32m-> 3838\u001b[0;31m                 \u001b[0mloc\u001b[0m \u001b[0;34m=\u001b[0m \u001b[0mself\u001b[0m\u001b[0;34m.\u001b[0m\u001b[0mitems\u001b[0m\u001b[0;34m.\u001b[0m\u001b[0mget_loc\u001b[0m\u001b[0;34m(\u001b[0m\u001b[0mitem\u001b[0m\u001b[0;34m)\u001b[0m\u001b[0;34m\u001b[0m\u001b[0m\n\u001b[0m\u001b[1;32m   3839\u001b[0m             \u001b[0;32melse\u001b[0m\u001b[0;34m:\u001b[0m\u001b[0;34m\u001b[0m\u001b[0m\n\u001b[1;32m   3840\u001b[0m                 \u001b[0mindexer\u001b[0m \u001b[0;34m=\u001b[0m \u001b[0mnp\u001b[0m\u001b[0;34m.\u001b[0m\u001b[0marange\u001b[0m\u001b[0;34m(\u001b[0m\u001b[0mlen\u001b[0m\u001b[0;34m(\u001b[0m\u001b[0mself\u001b[0m\u001b[0;34m.\u001b[0m\u001b[0mitems\u001b[0m\u001b[0;34m)\u001b[0m\u001b[0;34m)\u001b[0m\u001b[0;34m[\u001b[0m\u001b[0misna\u001b[0m\u001b[0;34m(\u001b[0m\u001b[0mself\u001b[0m\u001b[0;34m.\u001b[0m\u001b[0mitems\u001b[0m\u001b[0;34m)\u001b[0m\u001b[0;34m]\u001b[0m\u001b[0;34m\u001b[0m\u001b[0m\n",
      "\u001b[0;32m/Library/Frameworks/Python.framework/Versions/2.7/lib/python2.7/site-packages/pandas-0.21.0-py2.7-macosx-10.6-intel.egg/pandas/core/indexes/base.pyc\u001b[0m in \u001b[0;36mget_loc\u001b[0;34m(self, key, method, tolerance)\u001b[0m\n\u001b[1;32m   2522\u001b[0m                 \u001b[0;32mreturn\u001b[0m \u001b[0mself\u001b[0m\u001b[0;34m.\u001b[0m\u001b[0m_engine\u001b[0m\u001b[0;34m.\u001b[0m\u001b[0mget_loc\u001b[0m\u001b[0;34m(\u001b[0m\u001b[0mkey\u001b[0m\u001b[0;34m)\u001b[0m\u001b[0;34m\u001b[0m\u001b[0m\n\u001b[1;32m   2523\u001b[0m             \u001b[0;32mexcept\u001b[0m \u001b[0mKeyError\u001b[0m\u001b[0;34m:\u001b[0m\u001b[0;34m\u001b[0m\u001b[0m\n\u001b[0;32m-> 2524\u001b[0;31m                 \u001b[0;32mreturn\u001b[0m \u001b[0mself\u001b[0m\u001b[0;34m.\u001b[0m\u001b[0m_engine\u001b[0m\u001b[0;34m.\u001b[0m\u001b[0mget_loc\u001b[0m\u001b[0;34m(\u001b[0m\u001b[0mself\u001b[0m\u001b[0;34m.\u001b[0m\u001b[0m_maybe_cast_indexer\u001b[0m\u001b[0;34m(\u001b[0m\u001b[0mkey\u001b[0m\u001b[0;34m)\u001b[0m\u001b[0;34m)\u001b[0m\u001b[0;34m\u001b[0m\u001b[0m\n\u001b[0m\u001b[1;32m   2525\u001b[0m \u001b[0;34m\u001b[0m\u001b[0m\n\u001b[1;32m   2526\u001b[0m         \u001b[0mindexer\u001b[0m \u001b[0;34m=\u001b[0m \u001b[0mself\u001b[0m\u001b[0;34m.\u001b[0m\u001b[0mget_indexer\u001b[0m\u001b[0;34m(\u001b[0m\u001b[0;34m[\u001b[0m\u001b[0mkey\u001b[0m\u001b[0;34m]\u001b[0m\u001b[0;34m,\u001b[0m \u001b[0mmethod\u001b[0m\u001b[0;34m=\u001b[0m\u001b[0mmethod\u001b[0m\u001b[0;34m,\u001b[0m \u001b[0mtolerance\u001b[0m\u001b[0;34m=\u001b[0m\u001b[0mtolerance\u001b[0m\u001b[0;34m)\u001b[0m\u001b[0;34m\u001b[0m\u001b[0m\n",
      "\u001b[0;32mpandas/_libs/index.pyx\u001b[0m in \u001b[0;36mpandas._libs.index.IndexEngine.get_loc\u001b[0;34m()\u001b[0m\n",
      "\u001b[0;32mpandas/_libs/index.pyx\u001b[0m in \u001b[0;36mpandas._libs.index.IndexEngine.get_loc\u001b[0;34m()\u001b[0m\n",
      "\u001b[0;32mpandas/_libs/hashtable_class_helper.pxi\u001b[0m in \u001b[0;36mpandas._libs.hashtable.PyObjectHashTable.get_item\u001b[0;34m()\u001b[0m\n",
      "\u001b[0;32mpandas/_libs/hashtable_class_helper.pxi\u001b[0m in \u001b[0;36mpandas._libs.hashtable.PyObjectHashTable.get_item\u001b[0;34m()\u001b[0m\n",
      "\u001b[0;31mKeyError\u001b[0m: 'NAV_change'"
     ]
    }
   ],
   "source": [
    "month_end = df_final.groupby(pd.Grouper(freq = \"M\")).nth(-1)\n",
    "month_beg = df_final.groupby(pd.Grouper(freq = \"M\")).nth(0)\n",
    "print (month_end)\n",
    "print(month_beg)\n",
    "df_final[\"NAV_change\"]"
   ]
  },
  {
   "cell_type": "code",
   "execution_count": 14,
   "metadata": {
    "collapsed": false
   },
   "outputs": [],
   "source": [
    "month_beg.reset_index(level=0, inplace=True)"
   ]
  },
  {
   "cell_type": "code",
   "execution_count": 15,
   "metadata": {
    "collapsed": true
   },
   "outputs": [],
   "source": [
    "month_end.reset_index(level=0, inplace=True)"
   ]
  },
  {
   "cell_type": "code",
   "execution_count": 16,
   "metadata": {
    "collapsed": true
   },
   "outputs": [],
   "source": [
    "month_beg['Year'] = pd.to_datetime(month_beg.Date).dt.date\n",
    "month_end['Year'] = pd.to_datetime(month_end.Date).dt.date"
   ]
  },
  {
   "cell_type": "code",
   "execution_count": 17,
   "metadata": {
    "collapsed": false,
    "scrolled": true
   },
   "outputs": [
    {
     "name": "stdout",
     "output_type": "stream",
     "text": [
      "Index([u'Date', u'FACBX', u'FADCX', u'FAERX', u'FAGAX', u'FAHCX', u'FAHEX',\n",
      "       u'FARVX', u'FAVCX', u'FBLAX',\n",
      "       ...\n",
      "       u'FTXIX', u'FUAMX', u'FUMBX', u'FUSRX', u'FVALX', u'FVIFX', u'FWAFX',\n",
      "       u'FWIFX', u'FZAPX', u'Year'],\n",
      "      dtype='object', length=1902)\n"
     ]
    }
   ],
   "source": [
    "print month_beg.columns"
   ]
  },
  {
   "cell_type": "code",
   "execution_count": 18,
   "metadata": {
    "collapsed": true
   },
   "outputs": [],
   "source": [
    "month_beg.set_index('Date',inplace = True)\n",
    "month_end.set_index('Date',inplace = True)"
   ]
  },
  {
   "cell_type": "code",
   "execution_count": 19,
   "metadata": {
    "collapsed": true
   },
   "outputs": [],
   "source": [
    "cols = df_final.columns\n",
    "cols = list(cols)\n"
   ]
  },
  {
   "cell_type": "code",
   "execution_count": 20,
   "metadata": {
    "collapsed": false
   },
   "outputs": [
    {
     "name": "stdout",
     "output_type": "stream",
     "text": [
      "60\n",
      "60\n",
      "1900\n"
     ]
    }
   ],
   "source": [
    "new = pd.DataFrame(index = month_beg.index)\n",
    "print len(new)\n",
    "print len(month_beg)\n",
    "print len(cols)"
   ]
  },
  {
   "cell_type": "code",
   "execution_count": 21,
   "metadata": {
    "collapsed": true
   },
   "outputs": [],
   "source": [
    "for col in cols:\n",
    "    col_name = col + \"_Diff\"\n",
    "    new[col_name]= (month_end[col]-month_beg[col])/(month_beg[col])\n",
    "    "
   ]
  },
  {
   "cell_type": "code",
   "execution_count": 22,
   "metadata": {
    "collapsed": false
   },
   "outputs": [
    {
     "name": "stdout",
     "output_type": "stream",
     "text": [
      "            FACBX_Diff  FADCX_Diff  FAERX_Diff  FAGAX_Diff  FAHCX_Diff  \\\n",
      "Date                                                                     \n",
      "2013-01-31         NaN    0.019633    0.026864    0.020701    0.009202   \n",
      "2013-02-28         NaN   -0.022783   -0.023280   -0.010753    0.001011   \n",
      "2013-03-31         NaN    0.022656    0.016811    0.036322    0.009091   \n",
      "2013-04-30         NaN    0.052599    0.045576    0.039668    0.013013   \n",
      "2013-05-31         NaN   -0.014758   -0.005144    0.050685   -0.006917   \n",
      "\n",
      "            FAHEX_Diff  FARVX_Diff  FAVCX_Diff  FBLAX_Diff  FBLEX_Diff  \\\n",
      "Date                                                                     \n",
      "2013-01-31    0.009662    0.014866    0.031925    0.009320    0.042843   \n",
      "2013-02-28    0.001912    0.000000   -0.000904   -0.003680    0.004638   \n",
      "2013-03-31    0.009542    0.018828    0.037906    0.018467    0.033210   \n",
      "2013-04-30    0.013233    0.017775    0.022668    0.013661    0.020628   \n",
      "2013-05-31   -0.006530    0.010570    0.036942    0.002710    0.039111   \n",
      "\n",
      "               ...      FTRGX_Diff  FTXIX_Diff  FUAMX_Diff  FUMBX_Diff  \\\n",
      "Date           ...                                                       \n",
      "2013-01-31     ...             NaN         NaN         NaN         NaN   \n",
      "2013-02-28     ...             NaN         NaN         NaN         NaN   \n",
      "2013-03-31     ...             NaN         NaN         NaN         NaN   \n",
      "2013-04-30     ...             NaN         NaN         NaN         NaN   \n",
      "2013-05-31     ...             NaN         NaN         NaN         NaN   \n",
      "\n",
      "            FUSRX_Diff  FVALX_Diff  FVIFX_Diff  FWAFX_Diff  FWIFX_Diff  \\\n",
      "Date                                                                     \n",
      "2013-01-31   -0.007353    0.011334    0.043941    0.021771    0.022190   \n",
      "2013-02-28   -0.001481    0.006867    0.008844   -0.007966   -0.007477   \n",
      "2013-03-31   -0.002963    0.028085    0.041353    0.026862    0.027243   \n",
      "2013-04-30    0.001486    0.008285    0.015767    0.035104    0.035451   \n",
      "2013-05-31   -0.020772    0.001650    0.049061    0.017568    0.017953   \n",
      "\n",
      "            FZAPX_Diff  \n",
      "Date                    \n",
      "2013-01-31         NaN  \n",
      "2013-02-28         NaN  \n",
      "2013-03-31         NaN  \n",
      "2013-04-30         NaN  \n",
      "2013-05-31         NaN  \n",
      "\n",
      "[5 rows x 1900 columns]\n"
     ]
    }
   ],
   "source": [
    "print new.head()"
   ]
  },
  {
   "cell_type": "code",
   "execution_count": 23,
   "metadata": {
    "collapsed": true
   },
   "outputs": [],
   "source": [
    "new_diff_cols = new.columns\n",
    "new_diff_cols = list(new_diff_cols)\n",
    "pct_chng_NAV = pd.DataFrame(index = new.index)\n",
    "for col in new_diff_cols:\n",
    "    col_name = col[:6] + \"pct_change\"\n",
    "    pct_chng_NAV[col_name] = new[col].pct_change()"
   ]
  },
  {
   "cell_type": "code",
   "execution_count": 24,
   "metadata": {
    "collapsed": false
   },
   "outputs": [
    {
     "name": "stdout",
     "output_type": "stream",
     "text": [
      "            FACBX_pct_change  FADCX_pct_change  FAERX_pct_change  \\\n",
      "Date                                                               \n",
      "2013-01-31               NaN               NaN               NaN   \n",
      "2013-02-28               NaN         -2.160476         -1.866604   \n",
      "2013-03-31               NaN         -1.994404         -1.722117   \n",
      "2013-04-30               NaN          1.321662          1.711070   \n",
      "2013-05-31               NaN         -1.280575         -1.112867   \n",
      "\n",
      "            FAGAX_pct_change  FAHCX_pct_change  FAHEX_pct_change  \\\n",
      "Date                                                               \n",
      "2013-01-31               NaN               NaN               NaN   \n",
      "2013-02-28         -1.519424         -0.890125         -0.802103   \n",
      "2013-03-31         -4.377957          7.990909          3.990458   \n",
      "2013-04-30          0.092132          0.431431          0.386767   \n",
      "2013-05-31          0.277725         -1.531545         -1.493470   \n",
      "\n",
      "            FARVX_pct_change  FAVCX_pct_change  FBLAX_pct_change  \\\n",
      "Date                                                               \n",
      "2013-01-31               NaN               NaN               NaN   \n",
      "2013-02-28         -1.000000         -1.028321         -1.394848   \n",
      "2013-03-31               inf        -42.924188         -6.018467   \n",
      "2013-04-30         -0.055899         -0.402001         -0.260246   \n",
      "2013-05-31         -0.405350          0.629692         -0.801626   \n",
      "\n",
      "            FBLEX_pct_change        ...         FTRGX_pct_change  \\\n",
      "Date                                ...                            \n",
      "2013-01-31               NaN        ...                      NaN   \n",
      "2013-02-28         -0.891740        ...                      NaN   \n",
      "2013-03-31          6.160148        ...                      NaN   \n",
      "2013-04-30         -0.378874        ...                      NaN   \n",
      "2013-05-31          0.896039        ...                      NaN   \n",
      "\n",
      "            FTXIX_pct_change  FUAMX_pct_change  FUMBX_pct_change  \\\n",
      "Date                                                               \n",
      "2013-01-31               NaN               NaN               NaN   \n",
      "2013-02-28               NaN               NaN               NaN   \n",
      "2013-03-31               NaN               NaN               NaN   \n",
      "2013-04-30               NaN               NaN               NaN   \n",
      "2013-05-31               NaN               NaN               NaN   \n",
      "\n",
      "            FUSRX_pct_change  FVALX_pct_change  FVIFX_pct_change  \\\n",
      "Date                                                               \n",
      "2013-01-31               NaN               NaN               NaN   \n",
      "2013-02-28         -0.798519         -0.394123         -0.798733   \n",
      "2013-03-31          1.000000          3.089894          3.675893   \n",
      "2013-04-30         -1.501486         -0.705004         -0.618723   \n",
      "2013-05-31        -14.979228         -0.800825          2.111611   \n",
      "\n",
      "            FWAFX_pct_change  FWIFX_pct_change  FZAPX_pct_change  \n",
      "Date                                                              \n",
      "2013-01-31               NaN               NaN               NaN  \n",
      "2013-02-28         -1.365916         -1.336935               NaN  \n",
      "2013-03-31         -4.371914         -4.643729               NaN  \n",
      "2013-04-30          0.306847          0.301305               NaN  \n",
      "2013-05-31         -0.499557         -0.493578               NaN  \n",
      "\n",
      "[5 rows x 1900 columns]\n"
     ]
    }
   ],
   "source": [
    "print pct_chng_NAV.head()"
   ]
  },
  {
   "cell_type": "code",
   "execution_count": 25,
   "metadata": {
    "collapsed": false
   },
   "outputs": [],
   "source": [
    "# after having removed -inf and inf and NAV\n",
    "threshold_array = []\n",
    "copy_pct_chng_NAV = pct_chng_NAV.copy()\n",
    "pct_chng_NAV[\"Threshold\"] = pd.Series([])\n",
    "for index, row in copy_pct_chng_NAV.iterrows():\n",
    "    row = row.replace([np.inf, -np.inf], np.nan)\n",
    "    row = row.dropna()\n",
    "    mean_row = row.mean()\n",
    "    threshold = 0.75*mean_row\n",
    "    threshold_array.append(threshold)\n",
    "    pct_chng_NAV[\"Threshold\"][index] = threshold\n",
    "\n",
    "# pct_chng_NAV[\"Threshold\"] = thresh_series\n",
    "\n",
    "pct_chng_NAV.reset_index(level=0, inplace=True)   "
   ]
  },
  {
   "cell_type": "code",
   "execution_count": 26,
   "metadata": {
    "collapsed": true
   },
   "outputs": [],
   "source": [
    "df_box.reset_index(level=0, inplace=True)\n",
    "df_box[\"Month\"] = pd.PeriodIndex(pd.to_datetime(df_box.Date), freq='M')"
   ]
  },
  {
   "cell_type": "code",
   "execution_count": 27,
   "metadata": {
    "collapsed": true
   },
   "outputs": [],
   "source": [
    "pct_chng_NAV[\"Month\"] = pd.PeriodIndex(pd.to_datetime(pct_chng_NAV.Date), freq='M')"
   ]
  },
  {
   "cell_type": "code",
   "execution_count": 97,
   "metadata": {
    "collapsed": false
   },
   "outputs": [],
   "source": [
    "# plt.figure()\n",
    "# bp = df_box.boxplot(column = 'FVIFX_NAV_Change', by = \"Month\" ,vert = True, rot= 90)\n",
    "# line = pct_chng_NAV.plot(x=\"Month\",y=\"Threshold\",color=\"black\")\n",
    "# orig_plot = pct_chng_NAV.plot(x = \"Date\", y =\"FVALX_pct_change\",color = \"blue\")\n",
    "# thresh_plot = plt.plot(x=pct_chng_NAV[\"Month\"], y=pct_chng_NAV[\"Threshold\"])\n",
    "# thresh_plot = pct_chng_NAV.plot(x= pct_chng_NAV.index, y=\"Threshold\",color = \"red\")\n",
    "# orig_plot = plt.plot(x=pct_chng_NAV[\"Month\"],y=pct_chng_NAV[\"FVALX_pct_change\"],color='blue',label='Original')\n",
    "# thresh_plot = plt.plot(pct_chng_NAV[\"Date\"],pct_chng_NAV[\"Threshold\"],color = 'black',label = 'Threshold')\n",
    "new_df = pd.DataFrame()\n",
    "new_df[\"Month\"]= df_box[\"Month\"]\n",
    "new_df[\"FVIFX_NAV_Change\"] = df_box[\"FVIFX_NAV_Change\"]\n",
    "# new_df.set_index('Month',inplace=True)\n",
    "# fig, ax = plt.subplots()\n",
    "# # ax.plot(x=pct_chng_NAV[\"Month\"], y = pct_chng_NAV[\"Threshold\"])\n",
    "\n",
    "# # ax.boxplot(df_box['FVIFX_NAV_Change'])\n",
    "# df_box[\"FVIFX_NAV_Change\"].plt.box()\n",
    "# plt.show()"
   ]
  },
  {
   "cell_type": "code",
   "execution_count": 130,
   "metadata": {
    "collapsed": false
   },
   "outputs": [],
   "source": [
    "# pct_chng_NAV.replace([np.nan],0)\n",
    "fig,ax2 = plt.subplots(sharex=True,sharey=True)\n",
    "try:\n",
    "   \n",
    "    df_box.boxplot(column = \"FVIFX_NAV_Change\", by = \"Month\",ax = ax2) \n",
    "    pct_chng_NAV.plot(y=\"Threshold\",ax=ax2)\n",
    "    \n",
    "except ValueError:  #raised if `y` is empty.\n",
    "    pass\n",
    "\n",
    "plt.xticks(rotation=90)\n",
    "plt.show()\n",
    "\n",
    "# # ax.plot(x=pct_chng_NAV[\"Month\"], y=pct_chng_NAV[\"Threshold\"])\n",
    "# # hist = df_box.hist(column=\"FVIFX_NAV_Change\", by=\"Month\",ax=ax)\n",
    "# plt.savefig(\"threshold.png\")"
   ]
  },
  {
   "cell_type": "code",
   "execution_count": 119,
   "metadata": {
    "collapsed": false
   },
   "outputs": [
    {
     "data": {
      "text/plain": [
       "<matplotlib.axes.AxesSubplot at 0x1241723d0>"
      ]
     },
     "execution_count": 119,
     "metadata": {},
     "output_type": "execute_result"
    }
   ],
   "source": [
    "df_box.boxplot(column = \"FVIFX_NAV_Change\", by = \"Month\",ax = ax2) \n"
   ]
  },
  {
   "cell_type": "code",
   "execution_count": 86,
   "metadata": {
    "collapsed": false
   },
   "outputs": [
    {
     "name": "stdout",
     "output_type": "stream",
     "text": [
      "   a  b  c  d  e\n",
      "0  0  7  8  5  2\n",
      "1  6  8  1  3  6\n",
      "2  2  2  3  1  1\n",
      "3  8  2  0  2  4\n",
      "4  5  2  7  1  5\n",
      "   0  1  2  3  4\n",
      "0  4  3  2  1  5\n"
     ]
    }
   ],
   "source": [
    "# plt.figure()\n",
    "# df = pd.DataFrame(np.random.randint(low=0, high=10, size=(5, 5)),\n",
    "#                     columns=['a', 'b', 'c', 'd', 'e'])\n",
    "# print df\n",
    "\n",
    "\n",
    "# df1 = pd.DataFrame(np.random.randint(low=0, high=10, size=(1, 5)))\n",
    "# print df1\n",
    "\n",
    "# ax = df1.plot()\n",
    "# #df1.plot(ax=ax)\n",
    "# plt.show()\n"
   ]
  },
  {
   "cell_type": "code",
   "execution_count": 80,
   "metadata": {
    "collapsed": false
   },
   "outputs": [
    {
     "data": {
      "text/plain": [
       "<matplotlib.axes.AxesSubplot at 0x11b0181d0>"
      ]
     },
     "execution_count": 80,
     "metadata": {},
     "output_type": "execute_result"
    }
   ],
   "source": [
    "# df.plot()"
   ]
  },
  {
   "cell_type": "code",
   "execution_count": 38,
   "metadata": {
    "collapsed": false
   },
   "outputs": [
    {
     "ename": "ValueError",
     "evalue": "ordinal must be >= 1",
     "output_type": "error",
     "traceback": [
      "\u001b[0;31m---------------------------------------------------------------------------\u001b[0m",
      "\u001b[0;31mValueError\u001b[0m                                Traceback (most recent call last)",
      "\u001b[0;32m<ipython-input-38-72917dc50e90>\u001b[0m in \u001b[0;36m<module>\u001b[0;34m()\u001b[0m\n\u001b[1;32m      3\u001b[0m \u001b[0mts\u001b[0m \u001b[0;34m=\u001b[0m \u001b[0mts\u001b[0m\u001b[0;34m.\u001b[0m\u001b[0mcumsum\u001b[0m\u001b[0;34m(\u001b[0m\u001b[0;34m)\u001b[0m\u001b[0;34m\u001b[0m\u001b[0m\n\u001b[1;32m      4\u001b[0m \u001b[0;34m\u001b[0m\u001b[0m\n\u001b[0;32m----> 5\u001b[0;31m \u001b[0mts\u001b[0m\u001b[0;34m.\u001b[0m\u001b[0mplot\u001b[0m\u001b[0;34m(\u001b[0m\u001b[0;34m)\u001b[0m\u001b[0;34m\u001b[0m\u001b[0m\n\u001b[0m",
      "\u001b[0;32m/Library/Frameworks/Python.framework/Versions/2.7/lib/python2.7/site-packages/pandas-0.21.0-py2.7-macosx-10.6-intel.egg/pandas/plotting/_core.pyc\u001b[0m in \u001b[0;36m__call__\u001b[0;34m(self, kind, ax, figsize, use_index, title, grid, legend, style, logx, logy, loglog, xticks, yticks, xlim, ylim, rot, fontsize, colormap, table, yerr, xerr, label, secondary_y, **kwds)\u001b[0m\n\u001b[1;32m   2497\u001b[0m                            \u001b[0mcolormap\u001b[0m\u001b[0;34m=\u001b[0m\u001b[0mcolormap\u001b[0m\u001b[0;34m,\u001b[0m \u001b[0mtable\u001b[0m\u001b[0;34m=\u001b[0m\u001b[0mtable\u001b[0m\u001b[0;34m,\u001b[0m \u001b[0myerr\u001b[0m\u001b[0;34m=\u001b[0m\u001b[0myerr\u001b[0m\u001b[0;34m,\u001b[0m\u001b[0;34m\u001b[0m\u001b[0m\n\u001b[1;32m   2498\u001b[0m                            \u001b[0mxerr\u001b[0m\u001b[0;34m=\u001b[0m\u001b[0mxerr\u001b[0m\u001b[0;34m,\u001b[0m \u001b[0mlabel\u001b[0m\u001b[0;34m=\u001b[0m\u001b[0mlabel\u001b[0m\u001b[0;34m,\u001b[0m \u001b[0msecondary_y\u001b[0m\u001b[0;34m=\u001b[0m\u001b[0msecondary_y\u001b[0m\u001b[0;34m,\u001b[0m\u001b[0;34m\u001b[0m\u001b[0m\n\u001b[0;32m-> 2499\u001b[0;31m                            **kwds)\n\u001b[0m\u001b[1;32m   2500\u001b[0m     \u001b[0m__call__\u001b[0m\u001b[0;34m.\u001b[0m\u001b[0m__doc__\u001b[0m \u001b[0;34m=\u001b[0m \u001b[0mplot_series\u001b[0m\u001b[0;34m.\u001b[0m\u001b[0m__doc__\u001b[0m\u001b[0;34m\u001b[0m\u001b[0m\n\u001b[1;32m   2501\u001b[0m \u001b[0;34m\u001b[0m\u001b[0m\n",
      "\u001b[0;32m/Library/Frameworks/Python.framework/Versions/2.7/lib/python2.7/site-packages/pandas-0.21.0-py2.7-macosx-10.6-intel.egg/pandas/plotting/_core.pyc\u001b[0m in \u001b[0;36mplot_series\u001b[0;34m(data, kind, ax, figsize, use_index, title, grid, legend, style, logx, logy, loglog, xticks, yticks, xlim, ylim, rot, fontsize, colormap, table, yerr, xerr, label, secondary_y, **kwds)\u001b[0m\n\u001b[1;32m   1923\u001b[0m                  \u001b[0myerr\u001b[0m\u001b[0;34m=\u001b[0m\u001b[0myerr\u001b[0m\u001b[0;34m,\u001b[0m \u001b[0mxerr\u001b[0m\u001b[0;34m=\u001b[0m\u001b[0mxerr\u001b[0m\u001b[0;34m,\u001b[0m\u001b[0;34m\u001b[0m\u001b[0m\n\u001b[1;32m   1924\u001b[0m                  \u001b[0mlabel\u001b[0m\u001b[0;34m=\u001b[0m\u001b[0mlabel\u001b[0m\u001b[0;34m,\u001b[0m \u001b[0msecondary_y\u001b[0m\u001b[0;34m=\u001b[0m\u001b[0msecondary_y\u001b[0m\u001b[0;34m,\u001b[0m\u001b[0;34m\u001b[0m\u001b[0m\n\u001b[0;32m-> 1925\u001b[0;31m                  **kwds)\n\u001b[0m\u001b[1;32m   1926\u001b[0m \u001b[0;34m\u001b[0m\u001b[0m\n\u001b[1;32m   1927\u001b[0m \u001b[0;34m\u001b[0m\u001b[0m\n",
      "\u001b[0;32m/Library/Frameworks/Python.framework/Versions/2.7/lib/python2.7/site-packages/pandas-0.21.0-py2.7-macosx-10.6-intel.egg/pandas/plotting/_core.pyc\u001b[0m in \u001b[0;36m_plot\u001b[0;34m(data, x, y, subplots, ax, kind, **kwds)\u001b[0m\n\u001b[1;32m   1725\u001b[0m         \u001b[0mplot_obj\u001b[0m \u001b[0;34m=\u001b[0m \u001b[0mklass\u001b[0m\u001b[0;34m(\u001b[0m\u001b[0mdata\u001b[0m\u001b[0;34m,\u001b[0m \u001b[0msubplots\u001b[0m\u001b[0;34m=\u001b[0m\u001b[0msubplots\u001b[0m\u001b[0;34m,\u001b[0m \u001b[0max\u001b[0m\u001b[0;34m=\u001b[0m\u001b[0max\u001b[0m\u001b[0;34m,\u001b[0m \u001b[0mkind\u001b[0m\u001b[0;34m=\u001b[0m\u001b[0mkind\u001b[0m\u001b[0;34m,\u001b[0m \u001b[0;34m**\u001b[0m\u001b[0mkwds\u001b[0m\u001b[0;34m)\u001b[0m\u001b[0;34m\u001b[0m\u001b[0m\n\u001b[1;32m   1726\u001b[0m \u001b[0;34m\u001b[0m\u001b[0m\n\u001b[0;32m-> 1727\u001b[0;31m     \u001b[0mplot_obj\u001b[0m\u001b[0;34m.\u001b[0m\u001b[0mgenerate\u001b[0m\u001b[0;34m(\u001b[0m\u001b[0;34m)\u001b[0m\u001b[0;34m\u001b[0m\u001b[0m\n\u001b[0m\u001b[1;32m   1728\u001b[0m     \u001b[0mplot_obj\u001b[0m\u001b[0;34m.\u001b[0m\u001b[0mdraw\u001b[0m\u001b[0;34m(\u001b[0m\u001b[0;34m)\u001b[0m\u001b[0;34m\u001b[0m\u001b[0m\n\u001b[1;32m   1729\u001b[0m     \u001b[0;32mreturn\u001b[0m \u001b[0mplot_obj\u001b[0m\u001b[0;34m.\u001b[0m\u001b[0mresult\u001b[0m\u001b[0;34m\u001b[0m\u001b[0m\n",
      "\u001b[0;32m/Library/Frameworks/Python.framework/Versions/2.7/lib/python2.7/site-packages/pandas-0.21.0-py2.7-macosx-10.6-intel.egg/pandas/plotting/_core.pyc\u001b[0m in \u001b[0;36mgenerate\u001b[0;34m(self)\u001b[0m\n\u001b[1;32m    258\u001b[0m \u001b[0;34m\u001b[0m\u001b[0m\n\u001b[1;32m    259\u001b[0m         \u001b[0;32mfor\u001b[0m \u001b[0max\u001b[0m \u001b[0;32min\u001b[0m \u001b[0mself\u001b[0m\u001b[0;34m.\u001b[0m\u001b[0maxes\u001b[0m\u001b[0;34m:\u001b[0m\u001b[0;34m\u001b[0m\u001b[0m\n\u001b[0;32m--> 260\u001b[0;31m             \u001b[0mself\u001b[0m\u001b[0;34m.\u001b[0m\u001b[0m_post_plot_logic_common\u001b[0m\u001b[0;34m(\u001b[0m\u001b[0max\u001b[0m\u001b[0;34m,\u001b[0m \u001b[0mself\u001b[0m\u001b[0;34m.\u001b[0m\u001b[0mdata\u001b[0m\u001b[0;34m)\u001b[0m\u001b[0;34m\u001b[0m\u001b[0m\n\u001b[0m\u001b[1;32m    261\u001b[0m             \u001b[0mself\u001b[0m\u001b[0;34m.\u001b[0m\u001b[0m_post_plot_logic\u001b[0m\u001b[0;34m(\u001b[0m\u001b[0max\u001b[0m\u001b[0;34m,\u001b[0m \u001b[0mself\u001b[0m\u001b[0;34m.\u001b[0m\u001b[0mdata\u001b[0m\u001b[0;34m)\u001b[0m\u001b[0;34m\u001b[0m\u001b[0m\n\u001b[1;32m    262\u001b[0m \u001b[0;34m\u001b[0m\u001b[0m\n",
      "\u001b[0;32m/Library/Frameworks/Python.framework/Versions/2.7/lib/python2.7/site-packages/pandas-0.21.0-py2.7-macosx-10.6-intel.egg/pandas/plotting/_core.pyc\u001b[0m in \u001b[0;36m_post_plot_logic_common\u001b[0;34m(self, ax, data)\u001b[0m\n\u001b[1;32m    392\u001b[0m                 \u001b[0max\u001b[0m\u001b[0;34m.\u001b[0m\u001b[0mset_xticklabels\u001b[0m\u001b[0;34m(\u001b[0m\u001b[0mxticklabels\u001b[0m\u001b[0;34m)\u001b[0m\u001b[0;34m\u001b[0m\u001b[0m\n\u001b[1;32m    393\u001b[0m             self._apply_axis_properties(ax.xaxis, rot=self.rot,\n\u001b[0;32m--> 394\u001b[0;31m                                         fontsize=self.fontsize)\n\u001b[0m\u001b[1;32m    395\u001b[0m             \u001b[0mself\u001b[0m\u001b[0;34m.\u001b[0m\u001b[0m_apply_axis_properties\u001b[0m\u001b[0;34m(\u001b[0m\u001b[0max\u001b[0m\u001b[0;34m.\u001b[0m\u001b[0myaxis\u001b[0m\u001b[0;34m,\u001b[0m \u001b[0mfontsize\u001b[0m\u001b[0;34m=\u001b[0m\u001b[0mself\u001b[0m\u001b[0;34m.\u001b[0m\u001b[0mfontsize\u001b[0m\u001b[0;34m)\u001b[0m\u001b[0;34m\u001b[0m\u001b[0m\n\u001b[1;32m    396\u001b[0m \u001b[0;34m\u001b[0m\u001b[0m\n",
      "\u001b[0;32m/Library/Frameworks/Python.framework/Versions/2.7/lib/python2.7/site-packages/pandas-0.21.0-py2.7-macosx-10.6-intel.egg/pandas/plotting/_core.pyc\u001b[0m in \u001b[0;36m_apply_axis_properties\u001b[0;34m(self, axis, rot, fontsize)\u001b[0m\n\u001b[1;32m    466\u001b[0m \u001b[0;34m\u001b[0m\u001b[0m\n\u001b[1;32m    467\u001b[0m     \u001b[0;32mdef\u001b[0m \u001b[0m_apply_axis_properties\u001b[0m\u001b[0;34m(\u001b[0m\u001b[0mself\u001b[0m\u001b[0;34m,\u001b[0m \u001b[0maxis\u001b[0m\u001b[0;34m,\u001b[0m \u001b[0mrot\u001b[0m\u001b[0;34m=\u001b[0m\u001b[0mNone\u001b[0m\u001b[0;34m,\u001b[0m \u001b[0mfontsize\u001b[0m\u001b[0;34m=\u001b[0m\u001b[0mNone\u001b[0m\u001b[0;34m)\u001b[0m\u001b[0;34m:\u001b[0m\u001b[0;34m\u001b[0m\u001b[0m\n\u001b[0;32m--> 468\u001b[0;31m         \u001b[0mlabels\u001b[0m \u001b[0;34m=\u001b[0m \u001b[0maxis\u001b[0m\u001b[0;34m.\u001b[0m\u001b[0mget_majorticklabels\u001b[0m\u001b[0;34m(\u001b[0m\u001b[0;34m)\u001b[0m \u001b[0;34m+\u001b[0m \u001b[0maxis\u001b[0m\u001b[0;34m.\u001b[0m\u001b[0mget_minorticklabels\u001b[0m\u001b[0;34m(\u001b[0m\u001b[0;34m)\u001b[0m\u001b[0;34m\u001b[0m\u001b[0m\n\u001b[0m\u001b[1;32m    469\u001b[0m         \u001b[0;32mfor\u001b[0m \u001b[0mlabel\u001b[0m \u001b[0;32min\u001b[0m \u001b[0mlabels\u001b[0m\u001b[0;34m:\u001b[0m\u001b[0;34m\u001b[0m\u001b[0m\n\u001b[1;32m    470\u001b[0m             \u001b[0;32mif\u001b[0m \u001b[0mrot\u001b[0m \u001b[0;32mis\u001b[0m \u001b[0;32mnot\u001b[0m \u001b[0mNone\u001b[0m\u001b[0;34m:\u001b[0m\u001b[0;34m\u001b[0m\u001b[0m\n",
      "\u001b[0;32m/System/Library/Frameworks/Python.framework/Versions/2.7/Extras/lib/python/matplotlib/axis.pyc\u001b[0m in \u001b[0;36mget_majorticklabels\u001b[0;34m(self)\u001b[0m\n\u001b[1;32m   1143\u001b[0m     \u001b[0;32mdef\u001b[0m \u001b[0mget_majorticklabels\u001b[0m\u001b[0;34m(\u001b[0m\u001b[0mself\u001b[0m\u001b[0;34m)\u001b[0m\u001b[0;34m:\u001b[0m\u001b[0;34m\u001b[0m\u001b[0m\n\u001b[1;32m   1144\u001b[0m         \u001b[0;34m'Return a list of Text instances for the major ticklabels'\u001b[0m\u001b[0;34m\u001b[0m\u001b[0m\n\u001b[0;32m-> 1145\u001b[0;31m         \u001b[0mticks\u001b[0m \u001b[0;34m=\u001b[0m \u001b[0mself\u001b[0m\u001b[0;34m.\u001b[0m\u001b[0mget_major_ticks\u001b[0m\u001b[0;34m(\u001b[0m\u001b[0;34m)\u001b[0m\u001b[0;34m\u001b[0m\u001b[0m\n\u001b[0m\u001b[1;32m   1146\u001b[0m         \u001b[0mlabels1\u001b[0m \u001b[0;34m=\u001b[0m \u001b[0;34m[\u001b[0m\u001b[0mtick\u001b[0m\u001b[0;34m.\u001b[0m\u001b[0mlabel1\u001b[0m \u001b[0;32mfor\u001b[0m \u001b[0mtick\u001b[0m \u001b[0;32min\u001b[0m \u001b[0mticks\u001b[0m \u001b[0;32mif\u001b[0m \u001b[0mtick\u001b[0m\u001b[0;34m.\u001b[0m\u001b[0mlabel1On\u001b[0m\u001b[0;34m]\u001b[0m\u001b[0;34m\u001b[0m\u001b[0m\n\u001b[1;32m   1147\u001b[0m         \u001b[0mlabels2\u001b[0m \u001b[0;34m=\u001b[0m \u001b[0;34m[\u001b[0m\u001b[0mtick\u001b[0m\u001b[0;34m.\u001b[0m\u001b[0mlabel2\u001b[0m \u001b[0;32mfor\u001b[0m \u001b[0mtick\u001b[0m \u001b[0;32min\u001b[0m \u001b[0mticks\u001b[0m \u001b[0;32mif\u001b[0m \u001b[0mtick\u001b[0m\u001b[0;34m.\u001b[0m\u001b[0mlabel2On\u001b[0m\u001b[0;34m]\u001b[0m\u001b[0;34m\u001b[0m\u001b[0m\n",
      "\u001b[0;32m/System/Library/Frameworks/Python.framework/Versions/2.7/Extras/lib/python/matplotlib/axis.pyc\u001b[0m in \u001b[0;36mget_major_ticks\u001b[0;34m(self, numticks)\u001b[0m\n\u001b[1;32m   1242\u001b[0m         \u001b[0;34m'get the tick instances; grow as necessary'\u001b[0m\u001b[0;34m\u001b[0m\u001b[0m\n\u001b[1;32m   1243\u001b[0m         \u001b[0;32mif\u001b[0m \u001b[0mnumticks\u001b[0m \u001b[0;32mis\u001b[0m \u001b[0mNone\u001b[0m\u001b[0;34m:\u001b[0m\u001b[0;34m\u001b[0m\u001b[0m\n\u001b[0;32m-> 1244\u001b[0;31m             \u001b[0mnumticks\u001b[0m \u001b[0;34m=\u001b[0m \u001b[0mlen\u001b[0m\u001b[0;34m(\u001b[0m\u001b[0mself\u001b[0m\u001b[0;34m.\u001b[0m\u001b[0mget_major_locator\u001b[0m\u001b[0;34m(\u001b[0m\u001b[0;34m)\u001b[0m\u001b[0;34m(\u001b[0m\u001b[0;34m)\u001b[0m\u001b[0;34m)\u001b[0m\u001b[0;34m\u001b[0m\u001b[0m\n\u001b[0m\u001b[1;32m   1245\u001b[0m         \u001b[0;32mif\u001b[0m \u001b[0mlen\u001b[0m\u001b[0;34m(\u001b[0m\u001b[0mself\u001b[0m\u001b[0;34m.\u001b[0m\u001b[0mmajorTicks\u001b[0m\u001b[0;34m)\u001b[0m \u001b[0;34m<\u001b[0m \u001b[0mnumticks\u001b[0m\u001b[0;34m:\u001b[0m\u001b[0;34m\u001b[0m\u001b[0m\n\u001b[1;32m   1246\u001b[0m             \u001b[0;31m# update the new tick label properties from the old\u001b[0m\u001b[0;34m\u001b[0m\u001b[0;34m\u001b[0m\u001b[0m\n",
      "\u001b[0;32m/System/Library/Frameworks/Python.framework/Versions/2.7/Extras/lib/python/matplotlib/dates.pyc\u001b[0m in \u001b[0;36m__call__\u001b[0;34m(self)\u001b[0m\n\u001b[1;32m    800\u001b[0m     \u001b[0;32mdef\u001b[0m \u001b[0m__call__\u001b[0m\u001b[0;34m(\u001b[0m\u001b[0mself\u001b[0m\u001b[0;34m)\u001b[0m\u001b[0;34m:\u001b[0m\u001b[0;34m\u001b[0m\u001b[0m\n\u001b[1;32m    801\u001b[0m         \u001b[0;34m'Return the locations of the ticks'\u001b[0m\u001b[0;34m\u001b[0m\u001b[0m\n\u001b[0;32m--> 802\u001b[0;31m         \u001b[0mself\u001b[0m\u001b[0;34m.\u001b[0m\u001b[0mrefresh\u001b[0m\u001b[0;34m(\u001b[0m\u001b[0;34m)\u001b[0m\u001b[0;34m\u001b[0m\u001b[0m\n\u001b[0m\u001b[1;32m    803\u001b[0m         \u001b[0;32mreturn\u001b[0m \u001b[0mself\u001b[0m\u001b[0;34m.\u001b[0m\u001b[0m_locator\u001b[0m\u001b[0;34m(\u001b[0m\u001b[0;34m)\u001b[0m\u001b[0;34m\u001b[0m\u001b[0m\n\u001b[1;32m    804\u001b[0m \u001b[0;34m\u001b[0m\u001b[0m\n",
      "\u001b[0;32m/System/Library/Frameworks/Python.framework/Versions/2.7/Extras/lib/python/matplotlib/dates.pyc\u001b[0m in \u001b[0;36mrefresh\u001b[0;34m(self)\u001b[0m\n\u001b[1;32m    817\u001b[0m     \u001b[0;32mdef\u001b[0m \u001b[0mrefresh\u001b[0m\u001b[0;34m(\u001b[0m\u001b[0mself\u001b[0m\u001b[0;34m)\u001b[0m\u001b[0;34m:\u001b[0m\u001b[0;34m\u001b[0m\u001b[0m\n\u001b[1;32m    818\u001b[0m         \u001b[0;34m'Refresh internal information based on current limits.'\u001b[0m\u001b[0;34m\u001b[0m\u001b[0m\n\u001b[0;32m--> 819\u001b[0;31m         \u001b[0mdmin\u001b[0m\u001b[0;34m,\u001b[0m \u001b[0mdmax\u001b[0m \u001b[0;34m=\u001b[0m \u001b[0mself\u001b[0m\u001b[0;34m.\u001b[0m\u001b[0mviewlim_to_dt\u001b[0m\u001b[0;34m(\u001b[0m\u001b[0;34m)\u001b[0m\u001b[0;34m\u001b[0m\u001b[0m\n\u001b[0m\u001b[1;32m    820\u001b[0m         \u001b[0mself\u001b[0m\u001b[0;34m.\u001b[0m\u001b[0m_locator\u001b[0m \u001b[0;34m=\u001b[0m \u001b[0mself\u001b[0m\u001b[0;34m.\u001b[0m\u001b[0mget_locator\u001b[0m\u001b[0;34m(\u001b[0m\u001b[0mdmin\u001b[0m\u001b[0;34m,\u001b[0m \u001b[0mdmax\u001b[0m\u001b[0;34m)\u001b[0m\u001b[0;34m\u001b[0m\u001b[0m\n\u001b[1;32m    821\u001b[0m \u001b[0;34m\u001b[0m\u001b[0m\n",
      "\u001b[0;32m/System/Library/Frameworks/Python.framework/Versions/2.7/Extras/lib/python/matplotlib/dates.pyc\u001b[0m in \u001b[0;36mviewlim_to_dt\u001b[0;34m(self)\u001b[0m\n\u001b[1;32m    562\u001b[0m     \u001b[0;32mdef\u001b[0m \u001b[0mviewlim_to_dt\u001b[0m\u001b[0;34m(\u001b[0m\u001b[0mself\u001b[0m\u001b[0;34m)\u001b[0m\u001b[0;34m:\u001b[0m\u001b[0;34m\u001b[0m\u001b[0m\n\u001b[1;32m    563\u001b[0m         \u001b[0mvmin\u001b[0m\u001b[0;34m,\u001b[0m \u001b[0mvmax\u001b[0m \u001b[0;34m=\u001b[0m \u001b[0mself\u001b[0m\u001b[0;34m.\u001b[0m\u001b[0maxis\u001b[0m\u001b[0;34m.\u001b[0m\u001b[0mget_view_interval\u001b[0m\u001b[0;34m(\u001b[0m\u001b[0;34m)\u001b[0m\u001b[0;34m\u001b[0m\u001b[0m\n\u001b[0;32m--> 564\u001b[0;31m         \u001b[0;32mreturn\u001b[0m \u001b[0mnum2date\u001b[0m\u001b[0;34m(\u001b[0m\u001b[0mvmin\u001b[0m\u001b[0;34m,\u001b[0m \u001b[0mself\u001b[0m\u001b[0;34m.\u001b[0m\u001b[0mtz\u001b[0m\u001b[0;34m)\u001b[0m\u001b[0;34m,\u001b[0m \u001b[0mnum2date\u001b[0m\u001b[0;34m(\u001b[0m\u001b[0mvmax\u001b[0m\u001b[0;34m,\u001b[0m \u001b[0mself\u001b[0m\u001b[0;34m.\u001b[0m\u001b[0mtz\u001b[0m\u001b[0;34m)\u001b[0m\u001b[0;34m\u001b[0m\u001b[0m\n\u001b[0m\u001b[1;32m    565\u001b[0m \u001b[0;34m\u001b[0m\u001b[0m\n\u001b[1;32m    566\u001b[0m     \u001b[0;32mdef\u001b[0m \u001b[0m_get_unit\u001b[0m\u001b[0;34m(\u001b[0m\u001b[0mself\u001b[0m\u001b[0;34m)\u001b[0m\u001b[0;34m:\u001b[0m\u001b[0;34m\u001b[0m\u001b[0m\n",
      "\u001b[0;32m/System/Library/Frameworks/Python.framework/Versions/2.7/Extras/lib/python/matplotlib/dates.pyc\u001b[0m in \u001b[0;36mnum2date\u001b[0;34m(x, tz)\u001b[0m\n\u001b[1;32m    309\u001b[0m         \u001b[0mtz\u001b[0m \u001b[0;34m=\u001b[0m \u001b[0m_get_rc_timezone\u001b[0m\u001b[0;34m(\u001b[0m\u001b[0;34m)\u001b[0m\u001b[0;34m\u001b[0m\u001b[0m\n\u001b[1;32m    310\u001b[0m     \u001b[0;32mif\u001b[0m \u001b[0;32mnot\u001b[0m \u001b[0mcbook\u001b[0m\u001b[0;34m.\u001b[0m\u001b[0miterable\u001b[0m\u001b[0;34m(\u001b[0m\u001b[0mx\u001b[0m\u001b[0;34m)\u001b[0m\u001b[0;34m:\u001b[0m\u001b[0;34m\u001b[0m\u001b[0m\n\u001b[0;32m--> 311\u001b[0;31m         \u001b[0;32mreturn\u001b[0m \u001b[0m_from_ordinalf\u001b[0m\u001b[0;34m(\u001b[0m\u001b[0mx\u001b[0m\u001b[0;34m,\u001b[0m \u001b[0mtz\u001b[0m\u001b[0;34m)\u001b[0m\u001b[0;34m\u001b[0m\u001b[0m\n\u001b[0m\u001b[1;32m    312\u001b[0m     \u001b[0;32melse\u001b[0m\u001b[0;34m:\u001b[0m\u001b[0;34m\u001b[0m\u001b[0m\n\u001b[1;32m    313\u001b[0m         \u001b[0;32mreturn\u001b[0m \u001b[0;34m[\u001b[0m\u001b[0m_from_ordinalf\u001b[0m\u001b[0;34m(\u001b[0m\u001b[0mval\u001b[0m\u001b[0;34m,\u001b[0m \u001b[0mtz\u001b[0m\u001b[0;34m)\u001b[0m \u001b[0;32mfor\u001b[0m \u001b[0mval\u001b[0m \u001b[0;32min\u001b[0m \u001b[0mx\u001b[0m\u001b[0;34m]\u001b[0m\u001b[0;34m\u001b[0m\u001b[0m\n",
      "\u001b[0;32m/System/Library/Frameworks/Python.framework/Versions/2.7/Extras/lib/python/matplotlib/dates.pyc\u001b[0m in \u001b[0;36m_from_ordinalf\u001b[0;34m(x, tz)\u001b[0m\n\u001b[1;32m    212\u001b[0m         \u001b[0mtz\u001b[0m \u001b[0;34m=\u001b[0m \u001b[0m_get_rc_timezone\u001b[0m\u001b[0;34m(\u001b[0m\u001b[0;34m)\u001b[0m\u001b[0;34m\u001b[0m\u001b[0m\n\u001b[1;32m    213\u001b[0m     \u001b[0mix\u001b[0m \u001b[0;34m=\u001b[0m \u001b[0mint\u001b[0m\u001b[0;34m(\u001b[0m\u001b[0mx\u001b[0m\u001b[0;34m)\u001b[0m\u001b[0;34m\u001b[0m\u001b[0m\n\u001b[0;32m--> 214\u001b[0;31m     \u001b[0mdt\u001b[0m \u001b[0;34m=\u001b[0m \u001b[0mdatetime\u001b[0m\u001b[0;34m.\u001b[0m\u001b[0mdatetime\u001b[0m\u001b[0;34m.\u001b[0m\u001b[0mfromordinal\u001b[0m\u001b[0;34m(\u001b[0m\u001b[0mix\u001b[0m\u001b[0;34m)\u001b[0m\u001b[0;34m\u001b[0m\u001b[0m\n\u001b[0m\u001b[1;32m    215\u001b[0m     \u001b[0mremainder\u001b[0m \u001b[0;34m=\u001b[0m \u001b[0mfloat\u001b[0m\u001b[0;34m(\u001b[0m\u001b[0mx\u001b[0m\u001b[0;34m)\u001b[0m \u001b[0;34m-\u001b[0m \u001b[0mix\u001b[0m\u001b[0;34m\u001b[0m\u001b[0m\n\u001b[1;32m    216\u001b[0m     \u001b[0mhour\u001b[0m\u001b[0;34m,\u001b[0m \u001b[0mremainder\u001b[0m \u001b[0;34m=\u001b[0m \u001b[0mdivmod\u001b[0m\u001b[0;34m(\u001b[0m\u001b[0;36m24\u001b[0m \u001b[0;34m*\u001b[0m \u001b[0mremainder\u001b[0m\u001b[0;34m,\u001b[0m \u001b[0;36m1\u001b[0m\u001b[0;34m)\u001b[0m\u001b[0;34m\u001b[0m\u001b[0m\n",
      "\u001b[0;31mValueError\u001b[0m: ordinal must be >= 1"
     ]
    }
   ],
   "source": []
  },
  {
   "cell_type": "code",
   "execution_count": null,
   "metadata": {
    "collapsed": true
   },
   "outputs": [],
   "source": []
  }
 ],
 "metadata": {
  "kernelspec": {
   "display_name": "Python 2",
   "language": "python",
   "name": "python2"
  },
  "language_info": {
   "codemirror_mode": {
    "name": "ipython",
    "version": 2
   },
   "file_extension": ".py",
   "mimetype": "text/x-python",
   "name": "python",
   "nbconvert_exporter": "python",
   "pygments_lexer": "ipython2",
   "version": "2.7.12"
  }
 },
 "nbformat": 4,
 "nbformat_minor": 2
}
